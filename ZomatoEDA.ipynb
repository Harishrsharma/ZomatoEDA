{
 "cells": [
  {
   "cell_type": "code",
   "execution_count": 1,
   "metadata": {
    "colab": {
     "base_uri": "https://localhost:8080/",
     "height": 36
    },
    "executionInfo": {
     "elapsed": 851,
     "status": "ok",
     "timestamp": 1660919034201,
     "user": {
      "displayName": "Harish Sharma",
      "userId": "16177211383741332295"
     },
     "user_tz": -120
    },
    "id": "w60ae5Ry9EvO",
    "outputId": "cef27caf-386b-4693-b99f-933e2f315d06"
   },
   "outputs": [],
   "source": [
    "#\"D:/Data Science Assignment/Data Science Workshop by Jobaaj/08-08-2022/archive/zomato_restaurants_in_India.csv\""
   ]
  },
  {
   "cell_type": "code",
   "execution_count": 2,
   "metadata": {
    "id": "I9bldDD19Npm"
   },
   "outputs": [],
   "source": [
    "import numpy as np\n",
    "import pandas as pd\n",
    "import matplotlib.pyplot as plt\n",
    "import matplotlib.cm as cm\n",
    "import seaborn as sns\n",
    "import random\n",
    "#from wordcloud import WordCloud"
   ]
  },
  {
   "cell_type": "markdown",
   "metadata": {
    "id": "2Jn_2OjT9Vg5"
   },
   "source": [
    "#Preprocessing and Inputing Data#"
   ]
  },
  {
   "cell_type": "code",
   "execution_count": 3,
   "metadata": {
    "colab": {
     "base_uri": "https://localhost:8080/",
     "height": 39,
     "resources": {
      "http://localhost:8080/nbextensions/google.colab/files.js": {
       "data": "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",
       "headers": [
        [
         "content-type",
         "application/javascript"
        ]
       ],
       "ok": true,
       "status": 200,
       "status_text": ""
      }
     }
    },
    "id": "GtfXNNWk9OGD",
    "outputId": "ec8651d2-e867-4199-d09b-2f61b43ad6f3"
   },
   "outputs": [],
   "source": [
    "#from google.colab import files #Uploading file form local repository to google colab server \n",
    "#uploaded = files.upload() #this take time to upload\n",
    "data = pd.read_csv(\"D:/Data Science Assignment/Data Science Workshop by Jobaaj/08-08-2022/archive/zomato_restaurants_in_India.csv\")\n"
   ]
  },
  {
   "cell_type": "code",
   "execution_count": 5,
   "metadata": {
    "id": "D3jhzYXt9mob"
   },
   "outputs": [],
   "source": [
    "import io\n",
    "#data = pd.read_csv(io.BytesIO(uploaded['zomato_restaurants_in_India.csv'])) #read the data from google colab\n",
    "# Dataset is now stored in a Pandas Dataframe"
   ]
  },
  {
   "cell_type": "code",
   "execution_count": 6,
   "metadata": {
    "colab": {
     "base_uri": "https://localhost:8080/",
     "height": 566
    },
    "executionInfo": {
     "elapsed": 1028,
     "status": "ok",
     "timestamp": 1660921796654,
     "user": {
      "displayName": "Harish Sharma",
      "userId": "16177211383741332295"
     },
     "user_tz": -120
    },
    "id": "to47H4tVDPqH",
    "outputId": "23f55afa-f1bf-4a1d-9872-66ed608317ba"
   },
   "outputs": [
    {
     "data": {
      "text/html": [
       "<div>\n",
       "<style scoped>\n",
       "    .dataframe tbody tr th:only-of-type {\n",
       "        vertical-align: middle;\n",
       "    }\n",
       "\n",
       "    .dataframe tbody tr th {\n",
       "        vertical-align: top;\n",
       "    }\n",
       "\n",
       "    .dataframe thead th {\n",
       "        text-align: right;\n",
       "    }\n",
       "</style>\n",
       "<table border=\"1\" class=\"dataframe\">\n",
       "  <thead>\n",
       "    <tr style=\"text-align: right;\">\n",
       "      <th></th>\n",
       "      <th>res_id</th>\n",
       "      <th>name</th>\n",
       "      <th>establishment</th>\n",
       "      <th>url</th>\n",
       "      <th>address</th>\n",
       "      <th>city</th>\n",
       "      <th>city_id</th>\n",
       "      <th>locality</th>\n",
       "      <th>latitude</th>\n",
       "      <th>longitude</th>\n",
       "      <th>...</th>\n",
       "      <th>price_range</th>\n",
       "      <th>currency</th>\n",
       "      <th>highlights</th>\n",
       "      <th>aggregate_rating</th>\n",
       "      <th>rating_text</th>\n",
       "      <th>votes</th>\n",
       "      <th>photo_count</th>\n",
       "      <th>opentable_support</th>\n",
       "      <th>delivery</th>\n",
       "      <th>takeaway</th>\n",
       "    </tr>\n",
       "  </thead>\n",
       "  <tbody>\n",
       "    <tr>\n",
       "      <th>0</th>\n",
       "      <td>3400299</td>\n",
       "      <td>Bikanervala</td>\n",
       "      <td>['Quick Bites']</td>\n",
       "      <td>https://www.zomato.com/agra/bikanervala-khanda...</td>\n",
       "      <td>Kalyani Point, Near Tulsi Cinema, Bypass Road,...</td>\n",
       "      <td>Agra</td>\n",
       "      <td>34</td>\n",
       "      <td>Khandari</td>\n",
       "      <td>27.211450</td>\n",
       "      <td>78.002381</td>\n",
       "      <td>...</td>\n",
       "      <td>2</td>\n",
       "      <td>Rs.</td>\n",
       "      <td>['Lunch', 'Takeaway Available', 'Credit Card',...</td>\n",
       "      <td>4.4</td>\n",
       "      <td>Very Good</td>\n",
       "      <td>814</td>\n",
       "      <td>154</td>\n",
       "      <td>0.0</td>\n",
       "      <td>-1</td>\n",
       "      <td>-1</td>\n",
       "    </tr>\n",
       "    <tr>\n",
       "      <th>1</th>\n",
       "      <td>3400005</td>\n",
       "      <td>Mama Chicken Mama Franky House</td>\n",
       "      <td>['Quick Bites']</td>\n",
       "      <td>https://www.zomato.com/agra/mama-chicken-mama-...</td>\n",
       "      <td>Main Market, Sadar Bazaar, Agra Cantt, Agra</td>\n",
       "      <td>Agra</td>\n",
       "      <td>34</td>\n",
       "      <td>Agra Cantt</td>\n",
       "      <td>27.160569</td>\n",
       "      <td>78.011583</td>\n",
       "      <td>...</td>\n",
       "      <td>2</td>\n",
       "      <td>Rs.</td>\n",
       "      <td>['Delivery', 'No Alcohol Available', 'Dinner',...</td>\n",
       "      <td>4.4</td>\n",
       "      <td>Very Good</td>\n",
       "      <td>1203</td>\n",
       "      <td>161</td>\n",
       "      <td>0.0</td>\n",
       "      <td>-1</td>\n",
       "      <td>-1</td>\n",
       "    </tr>\n",
       "    <tr>\n",
       "      <th>2</th>\n",
       "      <td>3401013</td>\n",
       "      <td>Bhagat Halwai</td>\n",
       "      <td>['Quick Bites']</td>\n",
       "      <td>https://www.zomato.com/agra/bhagat-halwai-2-sh...</td>\n",
       "      <td>62/1, Near Easy Day, West Shivaji Nagar, Goalp...</td>\n",
       "      <td>Agra</td>\n",
       "      <td>34</td>\n",
       "      <td>Shahganj</td>\n",
       "      <td>27.182938</td>\n",
       "      <td>77.979684</td>\n",
       "      <td>...</td>\n",
       "      <td>1</td>\n",
       "      <td>Rs.</td>\n",
       "      <td>['No Alcohol Available', 'Dinner', 'Takeaway A...</td>\n",
       "      <td>4.2</td>\n",
       "      <td>Very Good</td>\n",
       "      <td>801</td>\n",
       "      <td>107</td>\n",
       "      <td>0.0</td>\n",
       "      <td>1</td>\n",
       "      <td>-1</td>\n",
       "    </tr>\n",
       "  </tbody>\n",
       "</table>\n",
       "<p>3 rows × 26 columns</p>\n",
       "</div>"
      ],
      "text/plain": [
       "    res_id                            name    establishment  \\\n",
       "0  3400299                     Bikanervala  ['Quick Bites']   \n",
       "1  3400005  Mama Chicken Mama Franky House  ['Quick Bites']   \n",
       "2  3401013                   Bhagat Halwai  ['Quick Bites']   \n",
       "\n",
       "                                                 url  \\\n",
       "0  https://www.zomato.com/agra/bikanervala-khanda...   \n",
       "1  https://www.zomato.com/agra/mama-chicken-mama-...   \n",
       "2  https://www.zomato.com/agra/bhagat-halwai-2-sh...   \n",
       "\n",
       "                                             address  city  city_id  \\\n",
       "0  Kalyani Point, Near Tulsi Cinema, Bypass Road,...  Agra       34   \n",
       "1        Main Market, Sadar Bazaar, Agra Cantt, Agra  Agra       34   \n",
       "2  62/1, Near Easy Day, West Shivaji Nagar, Goalp...  Agra       34   \n",
       "\n",
       "     locality   latitude  longitude  ... price_range  currency  \\\n",
       "0    Khandari  27.211450  78.002381  ...           2       Rs.   \n",
       "1  Agra Cantt  27.160569  78.011583  ...           2       Rs.   \n",
       "2    Shahganj  27.182938  77.979684  ...           1       Rs.   \n",
       "\n",
       "                                          highlights aggregate_rating  \\\n",
       "0  ['Lunch', 'Takeaway Available', 'Credit Card',...              4.4   \n",
       "1  ['Delivery', 'No Alcohol Available', 'Dinner',...              4.4   \n",
       "2  ['No Alcohol Available', 'Dinner', 'Takeaway A...              4.2   \n",
       "\n",
       "  rating_text  votes  photo_count opentable_support delivery  takeaway  \n",
       "0   Very Good    814          154               0.0       -1        -1  \n",
       "1   Very Good   1203          161               0.0       -1        -1  \n",
       "2   Very Good    801          107               0.0        1        -1  \n",
       "\n",
       "[3 rows x 26 columns]"
      ]
     },
     "execution_count": 6,
     "metadata": {},
     "output_type": "execute_result"
    }
   ],
   "source": [
    "data.head(3)"
   ]
  },
  {
   "cell_type": "code",
   "execution_count": 7,
   "metadata": {
    "colab": {
     "base_uri": "https://localhost:8080/"
    },
    "executionInfo": {
     "elapsed": 41,
     "status": "ok",
     "timestamp": 1660921797514,
     "user": {
      "displayName": "Harish Sharma",
      "userId": "16177211383741332295"
     },
     "user_tz": -120
    },
    "id": "wKnwRZRLDcMY",
    "outputId": "9be4dad9-492e-44c7-80af-bd4de47d3f9d"
   },
   "outputs": [
    {
     "data": {
      "text/plain": [
       "(211944, 26)"
      ]
     },
     "execution_count": 7,
     "metadata": {},
     "output_type": "execute_result"
    }
   ],
   "source": [
    "data.shape"
   ]
  },
  {
   "cell_type": "code",
   "execution_count": 8,
   "metadata": {
    "colab": {
     "base_uri": "https://localhost:8080/"
    },
    "executionInfo": {
     "elapsed": 32,
     "status": "ok",
     "timestamp": 1660921797515,
     "user": {
      "displayName": "Harish Sharma",
      "userId": "16177211383741332295"
     },
     "user_tz": -120
    },
    "id": "V6UNz8bVDgSL",
    "outputId": "2e2a4af2-8554-4450-98e7-c1942f3dc251"
   },
   "outputs": [
    {
     "name": "stdout",
     "output_type": "stream",
     "text": [
      "<class 'pandas.core.frame.DataFrame'>\n",
      "RangeIndex: 211944 entries, 0 to 211943\n",
      "Data columns (total 26 columns):\n",
      " #   Column                Non-Null Count   Dtype  \n",
      "---  ------                --------------   -----  \n",
      " 0   res_id                211944 non-null  int64  \n",
      " 1   name                  211944 non-null  object \n",
      " 2   establishment         211944 non-null  object \n",
      " 3   url                   211944 non-null  object \n",
      " 4   address               211810 non-null  object \n",
      " 5   city                  211944 non-null  object \n",
      " 6   city_id               211944 non-null  int64  \n",
      " 7   locality              211944 non-null  object \n",
      " 8   latitude              211944 non-null  float64\n",
      " 9   longitude             211944 non-null  float64\n",
      " 10  zipcode               48757 non-null   object \n",
      " 11  country_id            211944 non-null  int64  \n",
      " 12  locality_verbose      211944 non-null  object \n",
      " 13  cuisines              210553 non-null  object \n",
      " 14  timings               208070 non-null  object \n",
      " 15  average_cost_for_two  211944 non-null  int64  \n",
      " 16  price_range           211944 non-null  int64  \n",
      " 17  currency              211944 non-null  object \n",
      " 18  highlights            211944 non-null  object \n",
      " 19  aggregate_rating      211944 non-null  float64\n",
      " 20  rating_text           211944 non-null  object \n",
      " 21  votes                 211944 non-null  int64  \n",
      " 22  photo_count           211944 non-null  int64  \n",
      " 23  opentable_support     211896 non-null  float64\n",
      " 24  delivery              211944 non-null  int64  \n",
      " 25  takeaway              211944 non-null  int64  \n",
      "dtypes: float64(4), int64(9), object(13)\n",
      "memory usage: 42.0+ MB\n"
     ]
    }
   ],
   "source": [
    "data.info() #this will provide you the data type and total column in the table"
   ]
  },
  {
   "cell_type": "code",
   "execution_count": 9,
   "metadata": {
    "colab": {
     "base_uri": "https://localhost:8080/",
     "height": 364
    },
    "executionInfo": {
     "elapsed": 378,
     "status": "ok",
     "timestamp": 1660921797873,
     "user": {
      "displayName": "Harish Sharma",
      "userId": "16177211383741332295"
     },
     "user_tz": -120
    },
    "id": "yudwC4ReDiPx",
    "outputId": "87c0af76-fe7e-4b4e-b89f-5b0d01c028fa"
   },
   "outputs": [
    {
     "data": {
      "text/html": [
       "<div>\n",
       "<style scoped>\n",
       "    .dataframe tbody tr th:only-of-type {\n",
       "        vertical-align: middle;\n",
       "    }\n",
       "\n",
       "    .dataframe tbody tr th {\n",
       "        vertical-align: top;\n",
       "    }\n",
       "\n",
       "    .dataframe thead th {\n",
       "        text-align: right;\n",
       "    }\n",
       "</style>\n",
       "<table border=\"1\" class=\"dataframe\">\n",
       "  <thead>\n",
       "    <tr style=\"text-align: right;\">\n",
       "      <th></th>\n",
       "      <th>res_id</th>\n",
       "      <th>city_id</th>\n",
       "      <th>latitude</th>\n",
       "      <th>longitude</th>\n",
       "      <th>country_id</th>\n",
       "      <th>average_cost_for_two</th>\n",
       "      <th>price_range</th>\n",
       "      <th>aggregate_rating</th>\n",
       "      <th>votes</th>\n",
       "      <th>photo_count</th>\n",
       "      <th>opentable_support</th>\n",
       "      <th>delivery</th>\n",
       "      <th>takeaway</th>\n",
       "    </tr>\n",
       "  </thead>\n",
       "  <tbody>\n",
       "    <tr>\n",
       "      <th>count</th>\n",
       "      <td>2.119440e+05</td>\n",
       "      <td>211944.000000</td>\n",
       "      <td>211944.000000</td>\n",
       "      <td>211944.000000</td>\n",
       "      <td>211944.0</td>\n",
       "      <td>211944.000000</td>\n",
       "      <td>211944.000000</td>\n",
       "      <td>211944.000000</td>\n",
       "      <td>211944.000000</td>\n",
       "      <td>211944.000000</td>\n",
       "      <td>211896.0</td>\n",
       "      <td>211944.000000</td>\n",
       "      <td>211944.0</td>\n",
       "    </tr>\n",
       "    <tr>\n",
       "      <th>mean</th>\n",
       "      <td>1.349411e+07</td>\n",
       "      <td>4746.785434</td>\n",
       "      <td>21.499758</td>\n",
       "      <td>77.615276</td>\n",
       "      <td>1.0</td>\n",
       "      <td>595.812229</td>\n",
       "      <td>1.882535</td>\n",
       "      <td>3.395937</td>\n",
       "      <td>378.001864</td>\n",
       "      <td>256.971224</td>\n",
       "      <td>0.0</td>\n",
       "      <td>-0.255907</td>\n",
       "      <td>-1.0</td>\n",
       "    </tr>\n",
       "    <tr>\n",
       "      <th>std</th>\n",
       "      <td>7.883722e+06</td>\n",
       "      <td>5568.766386</td>\n",
       "      <td>22.781331</td>\n",
       "      <td>7.500104</td>\n",
       "      <td>0.0</td>\n",
       "      <td>606.239363</td>\n",
       "      <td>0.892989</td>\n",
       "      <td>1.283642</td>\n",
       "      <td>925.333370</td>\n",
       "      <td>867.668940</td>\n",
       "      <td>0.0</td>\n",
       "      <td>0.964172</td>\n",
       "      <td>0.0</td>\n",
       "    </tr>\n",
       "    <tr>\n",
       "      <th>min</th>\n",
       "      <td>5.000000e+01</td>\n",
       "      <td>1.000000</td>\n",
       "      <td>0.000000</td>\n",
       "      <td>0.000000</td>\n",
       "      <td>1.0</td>\n",
       "      <td>0.000000</td>\n",
       "      <td>1.000000</td>\n",
       "      <td>0.000000</td>\n",
       "      <td>-18.000000</td>\n",
       "      <td>0.000000</td>\n",
       "      <td>0.0</td>\n",
       "      <td>-1.000000</td>\n",
       "      <td>-1.0</td>\n",
       "    </tr>\n",
       "    <tr>\n",
       "      <th>25%</th>\n",
       "      <td>3.301027e+06</td>\n",
       "      <td>11.000000</td>\n",
       "      <td>15.496071</td>\n",
       "      <td>74.877961</td>\n",
       "      <td>1.0</td>\n",
       "      <td>250.000000</td>\n",
       "      <td>1.000000</td>\n",
       "      <td>3.300000</td>\n",
       "      <td>16.000000</td>\n",
       "      <td>3.000000</td>\n",
       "      <td>0.0</td>\n",
       "      <td>-1.000000</td>\n",
       "      <td>-1.0</td>\n",
       "    </tr>\n",
       "    <tr>\n",
       "      <th>50%</th>\n",
       "      <td>1.869573e+07</td>\n",
       "      <td>34.000000</td>\n",
       "      <td>22.514494</td>\n",
       "      <td>77.425971</td>\n",
       "      <td>1.0</td>\n",
       "      <td>400.000000</td>\n",
       "      <td>2.000000</td>\n",
       "      <td>3.800000</td>\n",
       "      <td>100.000000</td>\n",
       "      <td>18.000000</td>\n",
       "      <td>0.0</td>\n",
       "      <td>-1.000000</td>\n",
       "      <td>-1.0</td>\n",
       "    </tr>\n",
       "    <tr>\n",
       "      <th>75%</th>\n",
       "      <td>1.881297e+07</td>\n",
       "      <td>11306.000000</td>\n",
       "      <td>26.841667</td>\n",
       "      <td>80.219323</td>\n",
       "      <td>1.0</td>\n",
       "      <td>700.000000</td>\n",
       "      <td>2.000000</td>\n",
       "      <td>4.100000</td>\n",
       "      <td>362.000000</td>\n",
       "      <td>128.000000</td>\n",
       "      <td>0.0</td>\n",
       "      <td>1.000000</td>\n",
       "      <td>-1.0</td>\n",
       "    </tr>\n",
       "    <tr>\n",
       "      <th>max</th>\n",
       "      <td>1.915979e+07</td>\n",
       "      <td>11354.000000</td>\n",
       "      <td>10000.000000</td>\n",
       "      <td>91.832769</td>\n",
       "      <td>1.0</td>\n",
       "      <td>30000.000000</td>\n",
       "      <td>4.000000</td>\n",
       "      <td>4.900000</td>\n",
       "      <td>42539.000000</td>\n",
       "      <td>17702.000000</td>\n",
       "      <td>0.0</td>\n",
       "      <td>1.000000</td>\n",
       "      <td>-1.0</td>\n",
       "    </tr>\n",
       "  </tbody>\n",
       "</table>\n",
       "</div>"
      ],
      "text/plain": [
       "             res_id        city_id       latitude      longitude  country_id  \\\n",
       "count  2.119440e+05  211944.000000  211944.000000  211944.000000    211944.0   \n",
       "mean   1.349411e+07    4746.785434      21.499758      77.615276         1.0   \n",
       "std    7.883722e+06    5568.766386      22.781331       7.500104         0.0   \n",
       "min    5.000000e+01       1.000000       0.000000       0.000000         1.0   \n",
       "25%    3.301027e+06      11.000000      15.496071      74.877961         1.0   \n",
       "50%    1.869573e+07      34.000000      22.514494      77.425971         1.0   \n",
       "75%    1.881297e+07   11306.000000      26.841667      80.219323         1.0   \n",
       "max    1.915979e+07   11354.000000   10000.000000      91.832769         1.0   \n",
       "\n",
       "       average_cost_for_two    price_range  aggregate_rating          votes  \\\n",
       "count         211944.000000  211944.000000     211944.000000  211944.000000   \n",
       "mean             595.812229       1.882535          3.395937     378.001864   \n",
       "std              606.239363       0.892989          1.283642     925.333370   \n",
       "min                0.000000       1.000000          0.000000     -18.000000   \n",
       "25%              250.000000       1.000000          3.300000      16.000000   \n",
       "50%              400.000000       2.000000          3.800000     100.000000   \n",
       "75%              700.000000       2.000000          4.100000     362.000000   \n",
       "max            30000.000000       4.000000          4.900000   42539.000000   \n",
       "\n",
       "         photo_count  opentable_support       delivery  takeaway  \n",
       "count  211944.000000           211896.0  211944.000000  211944.0  \n",
       "mean      256.971224                0.0      -0.255907      -1.0  \n",
       "std       867.668940                0.0       0.964172       0.0  \n",
       "min         0.000000                0.0      -1.000000      -1.0  \n",
       "25%         3.000000                0.0      -1.000000      -1.0  \n",
       "50%        18.000000                0.0      -1.000000      -1.0  \n",
       "75%       128.000000                0.0       1.000000      -1.0  \n",
       "max     17702.000000                0.0       1.000000      -1.0  "
      ]
     },
     "execution_count": 9,
     "metadata": {},
     "output_type": "execute_result"
    }
   ],
   "source": [
    " data.describe() #, describe( ) gives us statistical information about numerical data."
   ]
  },
  {
   "cell_type": "markdown",
   "metadata": {
    "id": "BquDlVUeD6pG"
   },
   "source": [
    "Data Describe contain lot of information which are visible in short like the highest cost for 2 min cost average and so on it important to describe your data and observe clearly "
   ]
  },
  {
   "cell_type": "markdown",
   "metadata": {
    "id": "sgAju4DnEQ5x"
   },
   "source": [
    "#Removing duplicates#\n",
    "Its important to remove duplicate rows to avoid biasness in our analysis. Since res_id is unique identifier of our restaurants, we can use it to remove duplicates."
   ]
  },
  {
   "cell_type": "code",
   "execution_count": 10,
   "metadata": {
    "colab": {
     "base_uri": "https://localhost:8080/"
    },
    "executionInfo": {
     "elapsed": 49,
     "status": "ok",
     "timestamp": 1660921797876,
     "user": {
      "displayName": "Harish Sharma",
      "userId": "16177211383741332295"
     },
     "user_tz": -120
    },
    "id": "T30QZzTpDx1Z",
    "outputId": "02ca8563-1009-4f13-c224-7739c8055140"
   },
   "outputs": [
    {
     "data": {
      "text/plain": [
       "(55568, 26)"
      ]
     },
     "execution_count": 10,
     "metadata": {},
     "output_type": "execute_result"
    }
   ],
   "source": [
    "data.drop_duplicates([\"res_id\"],keep='first',inplace=True) #This will drop all duplicate rows base on the same rep_id you can use multiple sab column to identify duplicates\n",
    "data.shape # you can clearly observe the number of rows are reduced which help to analys the stuff easily"
   ]
  },
  {
   "cell_type": "markdown",
   "metadata": {
    "id": "lW9ge__XEzYE"
   },
   "source": [
    "#Dealing with missing values#"
   ]
  },
  {
   "cell_type": "code",
   "execution_count": 11,
   "metadata": {
    "colab": {
     "base_uri": "https://localhost:8080/"
    },
    "executionInfo": {
     "elapsed": 36,
     "status": "ok",
     "timestamp": 1660921797877,
     "user": {
      "displayName": "Harish Sharma",
      "userId": "16177211383741332295"
     },
     "user_tz": -120
    },
    "id": "fuTwQVuhEmZh",
    "outputId": "a5eba20e-d65d-426c-a655-7f079765c618"
   },
   "outputs": [
    {
     "data": {
      "text/plain": [
       "res_id                      0\n",
       "name                        0\n",
       "establishment               0\n",
       "url                         0\n",
       "address                    18\n",
       "city                        0\n",
       "city_id                     0\n",
       "locality                    0\n",
       "latitude                    0\n",
       "longitude                   0\n",
       "zipcode                 44623\n",
       "country_id                  0\n",
       "locality_verbose            0\n",
       "cuisines                  470\n",
       "timings                  1003\n",
       "average_cost_for_two        0\n",
       "price_range                 0\n",
       "currency                    0\n",
       "highlights                  0\n",
       "aggregate_rating            0\n",
       "rating_text                 0\n",
       "votes                       0\n",
       "photo_count                 0\n",
       "opentable_support          12\n",
       "delivery                    0\n",
       "takeaway                    0\n",
       "dtype: int64"
      ]
     },
     "execution_count": 11,
     "metadata": {},
     "output_type": "execute_result"
    }
   ],
   "source": [
    "data.isnull().sum() #checking is their any null value if yes then count total null in a cloumn\n",
    "\n"
   ]
  },
  {
   "cell_type": "markdown",
   "metadata": {
    "id": "7ej-QoJ8E_Ad"
   },
   "source": [
    "We can observe that zip code has maximum null value , its better not to consider the zip code for our computational processs"
   ]
  },
  {
   "cell_type": "markdown",
   "metadata": {
    "id": "gW-A7b0NFXFs"
   },
   "source": [
    "#Omitting not useful features#\n",
    "\n",
    ">*res_id* - Unique ID for each restaurant\n",
    "\n",
    ">*name* - Name is useful since we will use it to find top restaurants\n",
    "\n",
    ">*establishment* - Let's see what type of values we have in establishment\n"
   ]
  },
  {
   "cell_type": "code",
   "execution_count": 12,
   "metadata": {
    "colab": {
     "base_uri": "https://localhost:8080/"
    },
    "executionInfo": {
     "elapsed": 57,
     "status": "ok",
     "timestamp": 1660921798722,
     "user": {
      "displayName": "Harish Sharma",
      "userId": "16177211383741332295"
     },
     "user_tz": -120
    },
    "id": "AsjCdUFnE8ts",
    "outputId": "4b2da196-5e3d-4af7-f205-771f70616593"
   },
   "outputs": [
    {
     "data": {
      "text/plain": [
       "array([\"['Quick Bites']\", \"['Casual Dining']\", \"['Bakery']\", \"['Café']\",\n",
       "       \"['Dhaba']\", \"['Bhojanalya']\", \"['Bar']\", \"['Sweet Shop']\",\n",
       "       \"['Fine Dining']\", \"['Food Truck']\", \"['Dessert Parlour']\",\n",
       "       \"['Lounge']\", \"['Pub']\", \"['Beverage Shop']\", \"['Kiosk']\",\n",
       "       \"['Paan Shop']\", \"['Confectionery']\", '[]', \"['Shack']\",\n",
       "       \"['Club']\", \"['Food Court']\", \"['Mess']\", \"['Butcher Shop']\",\n",
       "       \"['Microbrewery']\", \"['Cocktail Bar']\", \"['Pop up']\",\n",
       "       \"['Irani Cafe']\"], dtype=object)"
      ]
     },
     "execution_count": 12,
     "metadata": {},
     "output_type": "execute_result"
    }
   ],
   "source": [
    "data[\"establishment\"].unique() #This will give all the unique value of that column"
   ]
  },
  {
   "cell_type": "markdown",
   "metadata": {
    "id": "HXz6jbJgGJTt"
   },
   "source": [
    "Their is value just like square bracket in unique value for establishment this is unused so we have to replace with NA"
   ]
  },
  {
   "cell_type": "code",
   "execution_count": 13,
   "metadata": {
    "colab": {
     "base_uri": "https://localhost:8080/"
    },
    "executionInfo": {
     "elapsed": 55,
     "status": "ok",
     "timestamp": 1660921798724,
     "user": {
      "displayName": "Harish Sharma",
      "userId": "16177211383741332295"
     },
     "user_tz": -120
    },
    "id": "hlrq3J3IF-zo",
    "outputId": "83124dcf-ef4c-47e0-86fb-347ab60ea227"
   },
   "outputs": [
    {
     "name": "stdout",
     "output_type": "stream",
     "text": [
      "<class 'str'>\n"
     ]
    }
   ],
   "source": [
    "print(type(data[\"establishment\"].unique()[0]))\n"
   ]
  },
  {
   "cell_type": "code",
   "execution_count": 14,
   "metadata": {
    "colab": {
     "base_uri": "https://localhost:8080/"
    },
    "executionInfo": {
     "elapsed": 50,
     "status": "ok",
     "timestamp": 1660921798725,
     "user": {
      "displayName": "Harish Sharma",
      "userId": "16177211383741332295"
     },
     "user_tz": -120
    },
    "id": "4jv2Tz0OGHDD",
    "outputId": "b5d917bd-6ac1-4fd1-d6a9-b9acbd084c2b"
   },
   "outputs": [
    {
     "name": "stdout",
     "output_type": "stream",
     "text": [
      "['Quick Bites']\n",
      "Quick Bites\n",
      "['Quick Bites' 'Casual Dining' 'Bakery' 'Café' 'Dhaba' 'Bhojanalya' 'Bar'\n",
      " 'Sweet Shop' 'Fine Dining' 'Food Truck' 'Dessert Parlour' 'Lounge' 'Pub'\n",
      " 'Beverage Shop' 'Kiosk' 'Paan Shop' 'Confectionery' '' 'Shack' 'Club'\n",
      " 'Food Court' 'Mess' 'Butcher Shop' 'Microbrewery' 'Cocktail Bar' 'Pop up'\n",
      " 'Irani Cafe']\n",
      "['Quick Bites' 'Casual Dining' 'Bakery' 'Café' 'Dhaba' 'Bhojanalya' 'Bar'\n",
      " 'Sweet Shop' 'Fine Dining' 'Food Truck' 'Dessert Parlour' 'Lounge' 'Pub'\n",
      " 'Beverage Shop' 'Kiosk' 'Paan Shop' 'Confectionery' 'NA' 'Shack' 'Club'\n",
      " 'Food Court' 'Mess' 'Butcher Shop' 'Microbrewery' 'Cocktail Bar' 'Pop up'\n",
      " 'Irani Cafe']\n"
     ]
    }
   ],
   "source": [
    "# Removing [' '] from each value\n",
    "print(data[\"establishment\"].unique()[0])\n",
    "data[\"establishment\"] = data[\"establishment\"].apply(lambda a:a[2:-2])\n",
    "print(data[\"establishment\"].unique()[0])\n",
    "\n",
    "# Changing ''  to 'NA'\n",
    "print(data[\"establishment\"].unique())\n",
    "data[\"establishment\"] = data[\"establishment\"].apply(lambda a : np.where(a==\"\", \"NA\", a))\n",
    "print(data[\"establishment\"].unique())"
   ]
  },
  {
   "cell_type": "markdown",
   "metadata": {
    "id": "CbofpZ7wKObX"
   },
   "source": [
    ">url - URL is the link to restaurant's page which is not useful for us\n",
    "\n",
    ">address - Not useful since it has long strings and its difficult to classify\n",
    "\n",
    ">city - Let's check unique cities"
   ]
  },
  {
   "cell_type": "code",
   "execution_count": 15,
   "metadata": {
    "colab": {
     "base_uri": "https://localhost:8080/"
    },
    "executionInfo": {
     "elapsed": 45,
     "status": "ok",
     "timestamp": 1660921798726,
     "user": {
      "displayName": "Harish Sharma",
      "userId": "16177211383741332295"
     },
     "user_tz": -120
    },
    "id": "20wmcE63GlM5",
    "outputId": "895fa41e-342d-4930-c446-dcb5a7b98817"
   },
   "outputs": [
    {
     "data": {
      "text/plain": [
       "array(['Agra', 'Ahmedabad', 'Gandhinagar', 'Ajmer', 'Alappuzha',\n",
       "       'Allahabad', 'Amravati', 'Amritsar', 'Aurangabad', 'Bangalore',\n",
       "       'Bhopal', 'Bhubaneshwar', 'Chandigarh', 'Mohali', 'Panchkula',\n",
       "       'Zirakpur', 'Nayagaon', 'Chennai', 'Coimbatore', 'Cuttack',\n",
       "       'Darjeeling', 'Dehradun', 'New Delhi', 'Gurgaon', 'Noida',\n",
       "       'Faridabad', 'Ghaziabad', 'Greater Noida', 'Dharamshala',\n",
       "       'Gangtok', 'Goa', 'Gorakhpur', 'Guntur', 'Guwahati', 'Gwalior',\n",
       "       'Haridwar', 'Hyderabad', 'Secunderabad', 'Indore', 'Jabalpur',\n",
       "       'Jaipur', 'Jalandhar', 'Jammu', 'Jamnagar', 'Jamshedpur', 'Jhansi',\n",
       "       'Jodhpur', 'Junagadh', 'Kanpur', 'Kharagpur', 'Kochi', 'Kolhapur',\n",
       "       'Kolkata', 'Howrah', 'Kota', 'Lucknow', 'Ludhiana', 'Madurai',\n",
       "       'Manali', 'Mangalore', 'Manipal', 'Udupi', 'Meerut', 'Mumbai',\n",
       "       'Thane', 'Navi Mumbai', 'Mussoorie', 'Mysore', 'Nagpur',\n",
       "       'Nainital', 'Nasik', 'Nashik', 'Neemrana', 'Ooty', 'Palakkad',\n",
       "       'Patiala', 'Patna', 'Puducherry', 'Pune', 'Pushkar', 'Raipur',\n",
       "       'Rajkot', 'Ranchi', 'Rishikesh', 'Salem', 'Shimla', 'Siliguri',\n",
       "       'Srinagar', 'Surat', 'Thrissur', 'Tirupati', 'Trichy',\n",
       "       'Trivandrum', 'Udaipur', 'Varanasi', 'Vellore', 'Vijayawada',\n",
       "       'Vizag', 'Vadodara'], dtype=object)"
      ]
     },
     "execution_count": 15,
     "metadata": {},
     "output_type": "execute_result"
    }
   ],
   "source": [
    "data[\"city\"].unique()\n"
   ]
  },
  {
   "cell_type": "markdown",
   "metadata": {
    "id": "SY3rA3uOKbw4"
   },
   "source": [
    "Look's good.\n",
    "\n",
    "city_id - We can uniquely use city name or id. So one feature is enough\n",
    "\n",
    "locality - Let's see number of unique values"
   ]
  },
  {
   "cell_type": "code",
   "execution_count": 16,
   "metadata": {
    "colab": {
     "base_uri": "https://localhost:8080/"
    },
    "executionInfo": {
     "elapsed": 38,
     "status": "ok",
     "timestamp": 1660921798728,
     "user": {
      "displayName": "Harish Sharma",
      "userId": "16177211383741332295"
     },
     "user_tz": -120
    },
    "id": "GObZlN7OIRAu",
    "outputId": "105433ae-2e2c-4318-c7b5-00427a769215"
   },
   "outputs": [
    {
     "data": {
      "text/plain": [
       "array(['Khandari', 'Agra Cantt', 'Shahganj', ..., 'Navapura',\n",
       "       'L&T Knowledge City', 'Danteshwar'], dtype=object)"
      ]
     },
     "execution_count": 16,
     "metadata": {},
     "output_type": "execute_result"
    }
   ],
   "source": [
    "data[\"locality\"].unique()"
   ]
  },
  {
   "cell_type": "code",
   "execution_count": 17,
   "metadata": {
    "colab": {
     "base_uri": "https://localhost:8080/"
    },
    "executionInfo": {
     "elapsed": 29,
     "status": "ok",
     "timestamp": 1660921798729,
     "user": {
      "displayName": "Harish Sharma",
      "userId": "16177211383741332295"
     },
     "user_tz": -120
    },
    "id": "tAXZCOtTKkqw",
    "outputId": "9260088a-846d-46f6-c39b-afc35bfc9a8b"
   },
   "outputs": [
    {
     "data": {
      "text/plain": [
       "3731"
      ]
     },
     "execution_count": 17,
     "metadata": {},
     "output_type": "execute_result"
    }
   ],
   "source": [
    "data[\"locality\"].nunique()"
   ]
  },
  {
   "cell_type": "markdown",
   "metadata": {
    "id": "LIoM_QZhK560"
   },
   "source": [
    "Although it can be an interesting feature, but since this feature has so many nunique classes, we will avoid it.\n",
    "\n",
    "latitude - Can be helpful while using geographic maps, but we won't be doing that here\n",
    "\n",
    "longitude - Same as above\n",
    "\n",
    "zipcode - Approx 80% missing values\n",
    "\n",
    "country_id - Since this dataset is for Indian restaurants, there should be just one unique id here. Let's check."
   ]
  },
  {
   "cell_type": "code",
   "execution_count": 18,
   "metadata": {
    "colab": {
     "base_uri": "https://localhost:8080/"
    },
    "executionInfo": {
     "elapsed": 789,
     "status": "ok",
     "timestamp": 1660921799497,
     "user": {
      "displayName": "Harish Sharma",
      "userId": "16177211383741332295"
     },
     "user_tz": -120
    },
    "id": "__qtpXz2KxfG",
    "outputId": "d4c6dacb-cc09-44e9-a12d-4ae1d11d994d"
   },
   "outputs": [
    {
     "data": {
      "text/plain": [
       "1"
      ]
     },
     "execution_count": 18,
     "metadata": {},
     "output_type": "execute_result"
    }
   ],
   "source": [
    "data[\"country_id\"].nunique()"
   ]
  },
  {
   "cell_type": "code",
   "execution_count": 19,
   "metadata": {
    "colab": {
     "base_uri": "https://localhost:8080/"
    },
    "executionInfo": {
     "elapsed": 88,
     "status": "ok",
     "timestamp": 1660921799499,
     "user": {
      "displayName": "Harish Sharma",
      "userId": "16177211383741332295"
     },
     "user_tz": -120
    },
    "id": "ufnNepnGLFFD",
    "outputId": "e84e9039-a8ba-4f4e-ce14-c7a0eade2d34"
   },
   "outputs": [
    {
     "data": {
      "text/plain": [
       "3910"
      ]
     },
     "execution_count": 19,
     "metadata": {},
     "output_type": "execute_result"
    }
   ],
   "source": [
    "data[\"locality_verbose\"].nunique()\n"
   ]
  },
  {
   "cell_type": "markdown",
   "metadata": {
    "id": "b613qI7OLYjx"
   },
   "source": [
    "**cuisines** - This feature has some missing values. Even though this has 9382 unique classes, we can see that each restaurant has a list of cusinies and the composition of the list is the reason why we have so many different cuisine classes. Let's check actual number of unique cuisine classes. But first we need to replace null values with a label."
   ]
  },
  {
   "cell_type": "code",
   "execution_count": 20,
   "metadata": {
    "colab": {
     "base_uri": "https://localhost:8080/"
    },
    "executionInfo": {
     "elapsed": 82,
     "status": "ok",
     "timestamp": 1660921799500,
     "user": {
      "displayName": "Harish Sharma",
      "userId": "16177211383741332295"
     },
     "user_tz": -120
    },
    "id": "y9jn52yLLOjT",
    "outputId": "c2795e90-963b-41ee-fdbf-65bce715ed13"
   },
   "outputs": [
    {
     "name": "stdout",
     "output_type": "stream",
     "text": [
      "9382\n",
      "['North Indian, South Indian, Mithai, Street Food, Desserts'\n",
      " 'North Indian, Mughlai, Rolls, Chinese, Fast Food, Street Food'\n",
      " 'Fast Food, Mithai' ...\n",
      " 'Street Food, Biryani, Chinese, Fast Food, North Indian, Mughlai'\n",
      " 'North Indian, Chinese, Mexican, Italian, Thai, Continental'\n",
      " 'North Indian, Lucknowi, Chinese']\n"
     ]
    }
   ],
   "source": [
    "print(data[\"cuisines\"].nunique())\n",
    "print(data[\"cuisines\"].unique())"
   ]
  },
  {
   "cell_type": "code",
   "execution_count": 21,
   "metadata": {
    "colab": {
     "base_uri": "https://localhost:8080/"
    },
    "executionInfo": {
     "elapsed": 75,
     "status": "ok",
     "timestamp": 1660921799502,
     "user": {
      "displayName": "Harish Sharma",
      "userId": "16177211383741332295"
     },
     "user_tz": -120
    },
    "id": "nFyqvw-uLR1w",
    "outputId": "d91aa2d2-0c7c-4b58-c3fa-94b9372c76ab"
   },
   "outputs": [
    {
     "name": "stdout",
     "output_type": "stream",
     "text": [
      "0         North Indian, South Indian, Mithai, Street Foo...\n",
      "1         North Indian, Mughlai, Rolls, Chinese, Fast Fo...\n",
      "2                                         Fast Food, Mithai\n",
      "3                 Desserts, Bakery, Fast Food, South Indian\n",
      "4                        North Indian, Continental, Italian\n",
      "                                ...                        \n",
      "211882                                            Ice Cream\n",
      "211925                      Gujarati, North Indian, Chinese\n",
      "211926                                Gujarati, Street Food\n",
      "211940                                            Fast Food\n",
      "211942                           Fast Food, Sandwich, Salad\n",
      "Name: cuisines, Length: 55568, dtype: object\n"
     ]
    }
   ],
   "source": [
    "data[\"cuisines\"] = data[\"cuisines\"].fillna(\"No cuisine\") #This will fill Na with No cusine \n",
    "print(data[\"cuisines\"])\n"
   ]
  },
  {
   "cell_type": "markdown",
   "metadata": {
    "id": "Bhv1Jdm7MPck"
   },
   "source": []
  },
  {
   "cell_type": "code",
   "execution_count": 22,
   "metadata": {
    "colab": {
     "base_uri": "https://localhost:8080/"
    },
    "executionInfo": {
     "elapsed": 68,
     "status": "ok",
     "timestamp": 1660921799503,
     "user": {
      "displayName": "Harish Sharma",
      "userId": "16177211383741332295"
     },
     "user_tz": -120
    },
    "id": "PKj-5-_2LlYJ",
    "outputId": "70e97cfc-6a64-4351-8fe0-302d2fd8b2cc"
   },
   "outputs": [
    {
     "name": "stdout",
     "output_type": "stream",
     "text": [
      "Total number of unique cuisines =  134\n"
     ]
    }
   ],
   "source": [
    "cuisines = []\n",
    "data[\"cuisines\"].apply(lambda x : cuisines.extend(x.split(\", \")))\n",
    "cuisines = pd.Series(cuisines)\n",
    "print(\"Total number of unique cuisines = \", cuisines.nunique())"
   ]
  },
  {
   "cell_type": "markdown",
   "metadata": {
    "id": "n7lTyP2_MVnJ"
   },
   "source": [
    "**timings** - This also has missing data, however it has 7740 unique classes. Also, it is not structured even if we try to reduce the number classes like we did in cuisines. Its better to omit it altogether.\n",
    "\n",
    "Its is very Unstructure format of Data\n"
   ]
  },
  {
   "cell_type": "code",
   "execution_count": 23,
   "metadata": {
    "colab": {
     "base_uri": "https://localhost:8080/"
    },
    "executionInfo": {
     "elapsed": 60,
     "status": "ok",
     "timestamp": 1660921799504,
     "user": {
      "displayName": "Harish Sharma",
      "userId": "16177211383741332295"
     },
     "user_tz": -120
    },
    "id": "Vq4SUtcQMLXr",
    "outputId": "1d89606b-e9ff-4e98-fa72-a2e9bb9d94eb"
   },
   "outputs": [
    {
     "name": "stdout",
     "output_type": "stream",
     "text": [
      "7740\n",
      "['8:30am – 10:30pm (Mon-Sun)'\n",
      " '12:30PM to 12Midnight (Mon, Wed, Thu, Fri, Sat, Sun), 1PM to 12Midnight (Tue)'\n",
      " '9:30 AM to 11 PM' ... '8am – 2:30pm, 5pm – 10pm (Mon-Sun)'\n",
      " '8am – 3pm, 6:30pm – 11pm (Mon-Sun)'\n",
      " '4pm – 11pm (Mon, Tue, Wed, Fri, Sat, Sun), 4pm – 11:30pm (Thu)']\n"
     ]
    }
   ],
   "source": [
    "print(data[\"timings\"].nunique())\n",
    "print(data[\"timings\"].unique())"
   ]
  },
  {
   "cell_type": "code",
   "execution_count": 24,
   "metadata": {
    "colab": {
     "base_uri": "https://localhost:8080/"
    },
    "executionInfo": {
     "elapsed": 48,
     "status": "ok",
     "timestamp": 1660921799506,
     "user": {
      "displayName": "Harish Sharma",
      "userId": "16177211383741332295"
     },
     "user_tz": -120
    },
    "id": "D6JGzzF5MapK",
    "outputId": "d74d082b-af44-42fc-cfb5-313b0f051542"
   },
   "outputs": [
    {
     "data": {
      "text/plain": [
       "array([  700,   600,   300,  1000,   400,   500,  1200,  1600,   250,\n",
       "         200,   150,  1500,   800,   450,   850,   350,   900,  6000,\n",
       "         650,   550,  2500,  6500,  5500,  4300,  3600,  3500,  3200,\n",
       "        3000,  2800,  2000,  1800,  1400,  1300,  1250,  1150,  1100,\n",
       "        1050,    50,    60,   100,   750,     0,   220,   260,   950,\n",
       "        1900,  2400,  2300,  2200,  1700,  1230,    70,   140,   120,\n",
       "         470,    20,    40,   110,    80,    90,   440,  2100, 14000,\n",
       "        5000,  4500,  4100,  4000,  3700,  3400,  2700,  2600,  1650,\n",
       "        1350,   180,  1260,     2,   197,   312,   170,   240,   330,\n",
       "        3100,  4200,  1850,  3300,  4800,  3800,  3250,  2900,  1750,\n",
       "         282,    35,   149,  1550,  5100,  6600,  1450,   160,  2250,\n",
       "        8000,  7000,  3900,  3650,  1020,   320,   360,   280,   130,\n",
       "       15000,  2501,    30,  1950,  1875,  1190,   309, 12000,   380,\n",
       "         299,    45,   190,  4600,   880,    75,   620,   999, 10000,\n",
       "         505, 30000,  4050,   175,   404,   445,   640,    15,   420,\n",
       "         115,   444,   592,  1499,   208,   940,   125,  7500,   520,\n",
       "         294], dtype=int64)"
      ]
     },
     "execution_count": 24,
     "metadata": {},
     "output_type": "execute_result"
    }
   ],
   "source": [
    "data[\"average_cost_for_two\"].unique()"
   ]
  },
  {
   "cell_type": "markdown",
   "metadata": {
    "id": "KEeO7ejcM0O3"
   },
   "source": [
    "We can clearly observe that their might some outlier that is 0. \"Average cost for two\""
   ]
  },
  {
   "cell_type": "code",
   "execution_count": 25,
   "metadata": {
    "colab": {
     "base_uri": "https://localhost:8080/"
    },
    "executionInfo": {
     "elapsed": 40,
     "status": "ok",
     "timestamp": 1660921799507,
     "user": {
      "displayName": "Harish Sharma",
      "userId": "16177211383741332295"
     },
     "user_tz": -120
    },
    "id": "yld6Zd59Mxur",
    "outputId": "19c15cbc-6f85-4200-ea37-73e2bc4c0f2c"
   },
   "outputs": [
    {
     "data": {
      "text/plain": [
       "array([2, 1, 3, 4], dtype=int64)"
      ]
     },
     "execution_count": 25,
     "metadata": {},
     "output_type": "execute_result"
    }
   ],
   "source": [
    "data[\"price_range\"].unique()"
   ]
  },
  {
   "cell_type": "code",
   "execution_count": 26,
   "metadata": {
    "colab": {
     "base_uri": "https://localhost:8080/"
    },
    "executionInfo": {
     "elapsed": 31,
     "status": "ok",
     "timestamp": 1660921799508,
     "user": {
      "displayName": "Harish Sharma",
      "userId": "16177211383741332295"
     },
     "user_tz": -120
    },
    "id": "bzEJ4pgkNIFC",
    "outputId": "47cade3a-a012-4c25-d6b4-061f758da6c4"
   },
   "outputs": [
    {
     "name": "stdout",
     "output_type": "stream",
     "text": [
      "31228\n",
      "[\"['Lunch', 'Takeaway Available', 'Credit Card', 'Dinner', 'Cash', 'Air Conditioned', 'Indoor Seating', 'Pure Veg']\"\n",
      " \"['Delivery', 'No Alcohol Available', 'Dinner', 'Takeaway Available', 'Lunch', 'Cash', 'Indoor Seating']\"\n",
      " \"['No Alcohol Available', 'Dinner', 'Takeaway Available', 'Breakfast', 'Lunch', 'Cash', 'Delivery', 'Outdoor Seating', 'Air Conditioned', 'Self Service', 'Indoor Seating', 'Digital Payments Accepted', 'Pure Veg', 'Desserts and Bakes']\"\n",
      " ...\n",
      " \"['Dinner', 'Delivery', 'Cash', 'Takeaway Available', 'Free Parking', 'Digital Payments Accepted', 'Pure Veg', 'Indoor Seating']\"\n",
      " \"['Dinner', 'Cash', 'Takeaway Available', 'Lunch', 'Delivery', 'Free Parking', 'Indoor Seating', 'Air Conditioned', 'Outdoor Seating', 'Digital Payments Accepted', 'Catering Available', 'Pure Veg']\"\n",
      " \"['Dinner', 'Cash', 'Takeaway Available', 'Debit Card', 'Delivery', 'Credit Card', 'Free Parking', 'Outdoor Seating']\"]\n"
     ]
    }
   ],
   "source": [
    "print(data[\"highlights\"].nunique())\n",
    "print(data[\"highlights\"].unique())"
   ]
  },
  {
   "cell_type": "markdown",
   "metadata": {
    "id": "6kWH9jhBNagp"
   },
   "source": [
    "highlights - They represent certain features that the restaurant specializes in and wants to highlight to their customers. Each restaurant has a list of highlights which makes the composition different for each one. We can, filter this and find total unique highlights from all restaurants."
   ]
  },
  {
   "cell_type": "code",
   "execution_count": 27,
   "metadata": {
    "colab": {
     "base_uri": "https://localhost:8080/"
    },
    "executionInfo": {
     "elapsed": 1198,
     "status": "ok",
     "timestamp": 1660921800684,
     "user": {
      "displayName": "Harish Sharma",
      "userId": "16177211383741332295"
     },
     "user_tz": -120
    },
    "id": "GszB4y3ONZZp",
    "outputId": "ab5bab2a-d92b-4ece-8cbb-69f145af1d0b"
   },
   "outputs": [
    {
     "name": "stdout",
     "output_type": "stream",
     "text": [
      "Total number of unique highlights =  104\n"
     ]
    }
   ],
   "source": [
    "hl = []\n",
    "data[\"highlights\"].apply(lambda x : hl.extend(x[2:-2].split(\"', '\")))\n",
    "hl = pd.Series(hl)\n",
    "print(\"Total number of unique highlights = \", hl.nunique())"
   ]
  },
  {
   "cell_type": "markdown",
   "metadata": {
    "id": "QtKAjLkyO1KX"
   },
   "source": [
    "**aggregate_rating** - Rating given to the restaurant\n",
    "\n",
    "**rating_text** - Characterisation of numeric rating into bins by using labels. We will be using direct ratings in our analysis, so we can ignore this.\n",
    "\n",
    "**votes** - Number of votes contributing to the rating\n",
    "\n",
    "**photo_count** - Photo uploads in reviews"
   ]
  },
  {
   "cell_type": "code",
   "execution_count": 28,
   "metadata": {
    "colab": {
     "base_uri": "https://localhost:8080/",
     "height": 143
    },
    "executionInfo": {
     "elapsed": 60,
     "status": "ok",
     "timestamp": 1660921800685,
     "user": {
      "displayName": "Harish Sharma",
      "userId": "16177211383741332295"
     },
     "user_tz": -120
    },
    "id": "AROeKFRyPDnq",
    "outputId": "5552cba9-324f-4adc-e96a-0c1b2cae0a2c"
   },
   "outputs": [
    {
     "data": {
      "text/html": [
       "<div>\n",
       "<style scoped>\n",
       "    .dataframe tbody tr th:only-of-type {\n",
       "        vertical-align: middle;\n",
       "    }\n",
       "\n",
       "    .dataframe tbody tr th {\n",
       "        vertical-align: top;\n",
       "    }\n",
       "\n",
       "    .dataframe thead th {\n",
       "        text-align: right;\n",
       "    }\n",
       "</style>\n",
       "<table border=\"1\" class=\"dataframe\">\n",
       "  <thead>\n",
       "    <tr style=\"text-align: right;\">\n",
       "      <th></th>\n",
       "      <th>aggregate_rating</th>\n",
       "      <th>votes</th>\n",
       "      <th>photo_count</th>\n",
       "    </tr>\n",
       "  </thead>\n",
       "  <tbody>\n",
       "    <tr>\n",
       "      <th>mean</th>\n",
       "      <td>2.958593</td>\n",
       "      <td>223.330352</td>\n",
       "      <td>160.97477</td>\n",
       "    </tr>\n",
       "    <tr>\n",
       "      <th>min</th>\n",
       "      <td>0.000000</td>\n",
       "      <td>-18.000000</td>\n",
       "      <td>0.00000</td>\n",
       "    </tr>\n",
       "    <tr>\n",
       "      <th>max</th>\n",
       "      <td>4.900000</td>\n",
       "      <td>42539.000000</td>\n",
       "      <td>17702.00000</td>\n",
       "    </tr>\n",
       "  </tbody>\n",
       "</table>\n",
       "</div>"
      ],
      "text/plain": [
       "      aggregate_rating         votes  photo_count\n",
       "mean          2.958593    223.330352    160.97477\n",
       "min           0.000000    -18.000000      0.00000\n",
       "max           4.900000  42539.000000  17702.00000"
      ]
     },
     "execution_count": 28,
     "metadata": {},
     "output_type": "execute_result"
    }
   ],
   "source": [
    "data[[\"aggregate_rating\",\"votes\",\"photo_count\"]].describe().loc[[\"mean\",\"min\",\"max\"]] # describe only mean ,min,max\n"
   ]
  },
  {
   "cell_type": "code",
   "execution_count": 29,
   "metadata": {
    "colab": {
     "base_uri": "https://localhost:8080/"
    },
    "executionInfo": {
     "elapsed": 57,
     "status": "ok",
     "timestamp": 1660921800686,
     "user": {
      "displayName": "Harish Sharma",
      "userId": "16177211383741332295"
     },
     "user_tz": -120
    },
    "id": "z3VkksAhH_7J",
    "outputId": "f1c258e4-7b69-4eb3-ee94-2593e2148abe"
   },
   "outputs": [
    {
     "name": "stdout",
     "output_type": "stream",
     "text": [
      "[ 0. nan]\n",
      "[-1  1  0]\n"
     ]
    },
    {
     "data": {
      "text/plain": [
       "array([-1], dtype=int64)"
      ]
     },
     "execution_count": 29,
     "metadata": {},
     "output_type": "execute_result"
    }
   ],
   "source": [
    "print(data[\"opentable_support\"].unique())\n",
    "print(data[\"delivery\"].unique())\n",
    "data[\"takeaway\"].unique()\n"
   ]
  },
  {
   "cell_type": "markdown",
   "metadata": {
    "id": "L-ponraEI6-0"
   },
   "source": [
    "Rating ranges between 0 and 5 while 42539 are the maximum votes given to a restaurant. The negative value in votes might be an outlier.\n",
    "\n",
    "**opentable_support** - Not useful since no restaurant has True value for this\n",
    "\n",
    "**delivery** - This feature has 3 classes but there is no explanation for those \n",
    "classes. We can consider -1 and 0 to be one class or ignore this feature for now\n",
    "\n",
    "**takeaway** - Again not useful since it only has one class"
   ]
  },
  {
   "cell_type": "markdown",
   "metadata": {
    "id": "haH60gUTJKFw"
   },
   "source": [
    "Now that we have taken a deep look at our data, let's start with some EDA!\n",
    "\n",
    "#Exploratory Data Analysis (EDA)#"
   ]
  },
  {
   "cell_type": "markdown",
   "metadata": {
    "id": "XKsriNYVJc9a"
   },
   "source": [
    "###Chains vs Outlets###"
   ]
  },
  {
   "cell_type": "code",
   "execution_count": 30,
   "metadata": {
    "id": "IC9fzZ5lI6oC"
   },
   "outputs": [],
   "source": [
    "outlets = data[\"name\"].value_counts() #This will count the total number of same restraunt"
   ]
  },
  {
   "cell_type": "code",
   "execution_count": 31,
   "metadata": {
    "id": "eeoPT5rIIw4s"
   },
   "outputs": [],
   "source": [
    "chains = outlets[outlets >= 2] #if more than or equal to 2 restraunt then its a chain else it is single outlet\n",
    "single = outlets[outlets == 1]"
   ]
  },
  {
   "cell_type": "code",
   "execution_count": 32,
   "metadata": {
    "colab": {
     "base_uri": "https://localhost:8080/"
    },
    "executionInfo": {
     "elapsed": 44,
     "status": "ok",
     "timestamp": 1660921800689,
     "user": {
      "displayName": "Harish Sharma",
      "userId": "16177211383741332295"
     },
     "user_tz": -120
    },
    "id": "Ddskw0UIJZp_",
    "outputId": "f2244c76-55e7-461a-ee0b-1b07ae556a57"
   },
   "outputs": [
    {
     "name": "stdout",
     "output_type": "stream",
     "text": [
      "Total Restaurants =  55568\n",
      "Total Restaurants that are part of some chain =  19358\n",
      "Percentage of Restaurants that are part of a chain =  35.0 %\n"
     ]
    }
   ],
   "source": [
    "print(\"Total Restaurants = \", data.shape[0])\n",
    "print(\"Total Restaurants that are part of some chain = \", data.shape[0] - single.shape[0])\n",
    "print(\"Percentage of Restaurants that are part of a chain = \", np.round((data.shape[0] - single.shape[0]) / data.shape[0],2)*100, \"%\")"
   ]
  },
  {
   "cell_type": "code",
   "execution_count": 33,
   "metadata": {
    "colab": {
     "base_uri": "https://localhost:8080/"
    },
    "executionInfo": {
     "elapsed": 36,
     "status": "ok",
     "timestamp": 1660921800690,
     "user": {
      "displayName": "Harish Sharma",
      "userId": "16177211383741332295"
     },
     "user_tz": -120
    },
    "id": "mLxlGVUXKD3y",
    "outputId": "1ed7a2fc-e14a-4289-e8c7-c3a51ca1590c"
   },
   "outputs": [
    {
     "name": "stdout",
     "output_type": "stream",
     "text": [
      "Burger King        110\n",
      "Barbeque Nation    112\n",
      "Pizza Hut          125\n",
      "McDonald's         130\n",
      "Subway             178\n",
      "Keventers          189\n",
      "Baskin Robbins     202\n",
      "KFC                204\n",
      "Cafe Coffee Day    315\n",
      "Domino's Pizza     399\n",
      "Name: name, dtype: int64\n"
     ]
    }
   ],
   "source": [
    "top10_chains = data[\"name\"].value_counts()[:10].sort_values(ascending=True)  #This will count the number of same outlet and sort them ascending and store them to top10_chains\n",
    "print(top10_chains)"
   ]
  },
  {
   "cell_type": "code",
   "execution_count": 34,
   "metadata": {
    "colab": {
     "base_uri": "https://localhost:8080/",
     "height": 458
    },
    "executionInfo": {
     "elapsed": 355,
     "status": "ok",
     "timestamp": 1660923426413,
     "user": {
      "displayName": "Harish Sharma",
      "userId": "16177211383741332295"
     },
     "user_tz": -120
    },
    "id": "qDrPiQuRKjE-",
    "outputId": "2abfdf8c-2848-4448-bdc9-bf566748c0dd"
   },
   "outputs": [
    {
     "data": {
      "image/png": "[encoded data removed]",
      "text/plain": [
       "<Figure size 792x504 with 1 Axes>"
      ]
     },
     "metadata": {
      "needs_background": "light"
     },
     "output_type": "display_data"
    }
   ],
   "source": [
    "height = top10_chains.values\n",
    "bars = top10_chains.index\n",
    "y_pos = np.arange(len(bars))\n",
    "\n",
    "fig = plt.figure(figsize=[11,7], frameon=False)\n",
    "ax = fig.gca()\n",
    "ax.spines[\"top\"].set_visible(\"#424242\")\n",
    "ax.spines[\"right\"].set_visible(False)\n",
    "ax.spines[\"left\"].set_color(\"#424242\")\n",
    "ax.spines[\"bottom\"].set_color(\"#424242\")\n",
    "\n",
    "#colors = [\"green\",\"blue\",\"magenta\",\"cyan\",\"gray\",\"yellow\",\"purple\",\"violet\",\"orange\",\"red\",\"maroon\"]\n",
    "#random.shuffle(colors)\n",
    "colors = [\"#f9cdac\",\"#f2a49f\",\"#ec7c92\",\"#e65586\",\"#bc438b\",\"#933291\",\"#692398\",\"#551c7b\",\"#41155e\",\"#2d0f41\"]\n",
    "plt.barh(y_pos, height, color=colors)\n",
    " \n",
    "plt.xticks(color=\"#424242\")\n",
    "\n",
    "plt.yticks(y_pos, bars, color=\"#424242\")\n",
    "plt.xlabel(\"Number of outlets in India\") \n",
    "\n",
    "for i, v in enumerate(height):\n",
    "    ax.text(v+3, i, str(v), color='#424242')   # This will display value stats in each bar of that chart\n",
    "plt.title(\"Top 10 Restaurant chain in India (by number of outlets)\")\n",
    "\n",
    "\n",
    "plt.show()"
   ]
  },
  {
   "cell_type": "code",
   "execution_count": 35,
   "metadata": {
    "colab": {
     "base_uri": "https://localhost:8080/",
     "height": 458
    },
    "executionInfo": {
     "elapsed": 906,
     "status": "ok",
     "timestamp": 1660923123133,
     "user": {
      "displayName": "Harish Sharma",
      "userId": "16177211383741332295"
     },
     "user_tz": -120
    },
    "id": "_uK2iX93M3u0",
    "outputId": "43a6914e-d44d-4924-cfa0-f9ecf11c4174"
   },
   "outputs": [
    {
     "data": {
      "image/png": "[encoded data removed]",
      "text/plain": [
       "<Figure size 792x504 with 1 Axes>"
      ]
     },
     "metadata": {
      "needs_background": "light"
     },
     "output_type": "display_data"
    }
   ],
   "source": [
    "height = top10_chains.values\n",
    "bars = top10_chains.index\n",
    "y_pos = np.arange(len(bars))\n",
    "\n",
    "fig = plt.figure(figsize=[11,7], frameon=False)\n",
    "ax = fig.gca()\n",
    "#ax.spines[\"top\"].set_visible(\"#424242\")\n",
    "#ax.spines[\"right\"].set_visible(False)\n",
    "#ax.spines[\"left\"].set_color(\"#424242\")\n",
    "#ax.spines[\"bottom\"].set_color(\"#424242\")\n",
    "\n",
    "#colors = [\"green\",\"blue\",\"magenta\",\"cyan\",\"gray\",\"yellow\",\"purple\",\"violet\",\"orange\",\"red\",\"maroon\"]\n",
    "#random.shuffle(colors)\n",
    "colors = [\"#f9cdac\",\"#f2a49f\",\"#ec7c92\",\"#e65586\",\"#bc438b\",\"#933291\",\"#692398\",\"#551c7b\",\"#41155e\",\"#2d0f41\"]\n",
    "plt.barh(y_pos, height, color=colors)\n",
    " \n",
    "plt.xticks(color=\"#424242\")\n",
    "\n",
    "plt.yticks(y_pos, bars, color=\"#424242\")\n",
    "plt.xlabel(\"Number of outlets in India\")\n",
    "\n",
    "for i, v in enumerate(height):\n",
    "    ax.text(v+3, i, str(v), color='#424242')\n",
    "plt.title(\"Top 10 Restaurant chain in India (by number of outlets)\")\n",
    "\n",
    "\n",
    "plt.show()"
   ]
  },
  {
   "cell_type": "code",
   "execution_count": 36,
   "metadata": {
    "colab": {
     "base_uri": "https://localhost:8080/"
    },
    "executionInfo": {
     "elapsed": 359,
     "status": "ok",
     "timestamp": 1660923477784,
     "user": {
      "displayName": "Harish Sharma",
      "userId": "16177211383741332295"
     },
     "user_tz": -120
    },
    "id": "CNhbc3Fhuo97",
    "outputId": "6e9b8a79-eb4e-45be-97e1-593dff4cb35f"
   },
   "outputs": [
    {
     "name": "stdout",
     "output_type": "stream",
     "text": [
      "Domino's Pizza              399\n",
      "Cafe Coffee Day             315\n",
      "KFC                         204\n",
      "Baskin Robbins              202\n",
      "Keventers                   189\n",
      "                           ... \n",
      "Pinroll                       1\n",
      "Daurani Jethani Ki Rasoi      1\n",
      "Organic Andhra Mess           1\n",
      "Basmati Restaurant            1\n",
      "Church Street Social          1\n",
      "Name: name, Length: 41100, dtype: int64\n"
     ]
    }
   ],
   "source": [
    "outlets = data[\"name\"].value_counts()\n",
    "print(outlets)\n"
   ]
  },
  {
   "cell_type": "markdown",
   "metadata": {
    "id": "q51DsFW3wbvs"
   },
   "source": [
    "Top restaurant chains (by average rating)\n",
    "Here we will look at top chains by their ratings. I have set the criteria of number of outlets to greater than 4 to remove some outliers."
   ]
  },
  {
   "cell_type": "code",
   "execution_count": 37,
   "metadata": {
    "id": "mjfMvTzrwMwk"
   },
   "outputs": [],
   "source": [
    "atleast_5_outlets = outlets[outlets > 4]\n"
   ]
  },
  {
   "cell_type": "code",
   "execution_count": 38,
   "metadata": {
    "id": "BoP4WH0lwYpR"
   },
   "outputs": [],
   "source": [
    "top10_chains2 = data[data[\"name\"].isin(atleast_5_outlets.index)].groupby(\"name\").mean()[\"aggregate_rating\"].sort_values(ascending=False)[:10].sort_values(ascending=True)"
   ]
  },
  {
   "cell_type": "code",
   "execution_count": 39,
   "metadata": {
    "colab": {
     "base_uri": "https://localhost:8080/"
    },
    "executionInfo": {
     "elapsed": 301,
     "status": "ok",
     "timestamp": 1660924396827,
     "user": {
      "displayName": "Harish Sharma",
      "userId": "16177211383741332295"
     },
     "user_tz": -120
    },
    "id": "OvBOUh6bwf5n",
    "outputId": "81600996-c4de-4597-f26d-db0d6db89eff"
   },
   "outputs": [
    {
     "name": "stdout",
     "output_type": "stream",
     "text": [
      "0    4.480000\n",
      "1    4.481818\n",
      "2    4.500000\n",
      "3    4.516667\n",
      "4    4.540000\n",
      "5    4.560000\n",
      "6    4.620000\n",
      "7    4.620000\n",
      "8    4.744444\n",
      "9    4.775000\n",
      "dtype: float64\n"
     ]
    }
   ],
   "source": [
    "height = pd.Series(top10_chains2.values)\n",
    "print(height)\n",
    "\n"
   ]
  },
  {
   "cell_type": "code",
   "execution_count": 40,
   "metadata": {
    "colab": {
     "base_uri": "https://localhost:8080/",
     "height": 458
    },
    "executionInfo": {
     "elapsed": 943,
     "status": "ok",
     "timestamp": 1660923962684,
     "user": {
      "displayName": "Harish Sharma",
      "userId": "16177211383741332295"
     },
     "user_tz": -120
    },
    "id": "a3lH39d4wntS",
    "outputId": "7d602401-2e65-4598-f6fa-dd512998200b"
   },
   "outputs": [
    {
     "data": {
      "image/png": "[encoded data removed]",
      "text/plain": [
       "<Figure size 792x504 with 1 Axes>"
      ]
     },
     "metadata": {
      "needs_background": "light"
     },
     "output_type": "display_data"
    }
   ],
   "source": [
    "height = pd.Series(top10_chains2.values).map(lambda x : np.round(x, 2))\n",
    "bars = top10_chains2.index\n",
    "y_pos = np.arange(len(bars))\n",
    "\n",
    "fig = plt.figure(figsize=[11,7], frameon=False)\n",
    "ax = fig.gca()\n",
    "ax.spines[\"top\"].set_visible(\"#424242\")\n",
    "ax.spines[\"right\"].set_visible(False)\n",
    "ax.spines[\"left\"].set_color(\"#424242\")\n",
    "ax.spines[\"bottom\"].set_color(\"#424242\")\n",
    "\n",
    "#colors = [\"green\",\"blue\",\"magenta\",\"cyan\",\"gray\",\"yellow\",\"purple\",\"violet\",\"orange\",\"red\",\"maroon\"]\n",
    "#random.shuffle(colors)\n",
    "colors = ['#fded86', '#fce36b', '#f7c65d', '#f1a84f', '#ec8c41', '#e76f34', '#e25328', '#b04829', '#7e3e2b', '#4c3430']\n",
    "plt.barh(y_pos, height, color=colors)\n",
    "\n",
    "plt.xlim(3)\n",
    "plt.xticks(color=\"#424242\")\n",
    "plt.yticks(y_pos, bars, color=\"#424242\")\n",
    "plt.xlabel(\"Number of outlets in India\")\n",
    "\n",
    "for i, v in enumerate(height):\n",
    "    ax.text(v + 0.01, i, str(v), color='#424242')\n",
    "plt.title(\"Top 10 Restaurant chain in India (by average Rating)\")\n",
    "\n",
    "\n",
    "plt.show()"
   ]
  },
  {
   "cell_type": "code",
   "execution_count": 41,
   "metadata": {
    "id": "LrIuzjCjyF9t"
   },
   "outputs": [
    {
     "data": {
      "image/png": "[encoded data removed]",
      "text/plain": [
       "<Figure size 576x360 with 1 Axes>"
      ]
     },
     "metadata": {
      "needs_background": "light"
     },
     "output_type": "display_data"
    }
   ],
   "source": [
    "est_count = data.groupby(\"establishment\").count()[\"res_id\"].sort_values(ascending=False)[:5]\n",
    "\n",
    "fig = plt.figure(figsize=[8,5], frameon=False)\n",
    "ax = fig.gca()\n",
    "ax.spines[\"top\"].set_visible(False)\n",
    "ax.spines[\"right\"].set_visible(False)\n",
    "ax.spines[\"left\"].set_color(\"#424242\")\n",
    "ax.spines[\"bottom\"].set_color(\"#424242\")\n",
    "\n",
    "#colors = [\"green\",\"blue\",\"magenta\",\"cyan\",\"gray\",\"yellow\",\"purple\",\"violet\",\"orange\",\"red\",\"maroon\"]\n",
    "#random.shuffle(colors)\n",
    "colors = [\"#2d0f41\",'#933291',\"#e65586\",\"#f2a49f\",\"#f9cdac\"]\n",
    "plt.bar(est_count.index, est_count.values, color=colors)\n",
    "\n",
    "plt.xticks(range(0, 6), color=\"#424242\")\n",
    "plt.yticks(range(0, 25000, 5000), color=\"#424242\")\n",
    "plt.xlabel(\"Top 5 establishment types\")\n",
    "\n",
    "for i, v in enumerate(est_count):\n",
    "    ax.text(i-0.2, v+500, str(v), color='#424242')\n",
    "plt.title(\"Number of restaurants (by establishment type)\")\n",
    "\n",
    "\n",
    "plt.show()"
   ]
  },
  {
   "cell_type": "markdown",
   "metadata": {},
   "source": [
    "\n",
    "\n",
    "Top 3 represents more casual and quick service restaurants, then from 4-6 we have dessert based shops.\n",
    "Average rating, votes and photos (by Establishment)\n",
    "\n",
    "Here, we will not plot each graph since it will make this notebook filled with horizontal bar charts. I see horizontal bar charts the only option to display results of this kind when we have lots of classes to compare (here 10 classes). Let's look at value_counts( ) directly\n"
   ]
  },
  {
   "cell_type": "code",
   "execution_count": 42,
   "metadata": {},
   "outputs": [
    {
     "data": {
      "text/plain": [
       "establishment\n",
       "Microbrewery     4.268182\n",
       "Pub              3.758263\n",
       "Cocktail Bar     3.531250\n",
       "Fine Dining      3.436547\n",
       "Lounge           3.436463\n",
       "Club             3.378571\n",
       "Irani Cafe       3.321429\n",
       "Casual Dining    3.238680\n",
       "Café             3.212345\n",
       "Butcher Shop     3.110390\n",
       "Name: aggregate_rating, dtype: float64"
      ]
     },
     "execution_count": 42,
     "metadata": {},
     "output_type": "execute_result"
    }
   ],
   "source": [
    "rating_by_est = data.groupby(\"establishment\").mean()[\"aggregate_rating\"].sort_values(ascending=False)[:10]\n",
    "rating_by_est"
   ]
  },
  {
   "cell_type": "code",
   "execution_count": 43,
   "metadata": {},
   "outputs": [
    {
     "data": {
      "text/plain": [
       "establishment\n",
       "Microbrewery     1992.300000\n",
       "Pub               880.274510\n",
       "Bar               500.613295\n",
       "Lounge            494.509756\n",
       "Casual Dining     396.339935\n",
       "Cocktail Bar      309.625000\n",
       "Club              300.544643\n",
       "Fine Dining       293.126384\n",
       "Café              276.558574\n",
       "Irani Cafe        178.714286\n",
       "Name: votes, dtype: float64"
      ]
     },
     "execution_count": 43,
     "metadata": {},
     "output_type": "execute_result"
    }
   ],
   "source": [
    "data.groupby(\"establishment\").mean()[\"votes\"].sort_values(ascending=False)[:10]"
   ]
  },
  {
   "cell_type": "code",
   "execution_count": 44,
   "metadata": {},
   "outputs": [
    {
     "data": {
      "text/plain": [
       "establishment\n",
       "Microbrewery     2042.054545\n",
       "Pub               652.955182\n",
       "Cocktail Bar      555.625000\n",
       "Lounge            514.687805\n",
       "Bar               513.321658\n",
       "Fine Dining       364.817590\n",
       "Café              331.935969\n",
       "Casual Dining     291.550448\n",
       "Irani Cafe        173.000000\n",
       "Club              107.089286\n",
       "Name: photo_count, dtype: float64"
      ]
     },
     "execution_count": 44,
     "metadata": {},
     "output_type": "execute_result"
    }
   ],
   "source": [
    "data.groupby(\"establishment\").mean()[\"photo_count\"].sort_values(ascending=False)[:10]"
   ]
  },
  {
   "cell_type": "markdown",
   "metadata": {},
   "source": [
    "We can Clearly see that Microbrewery is at the top in rating, no of votes and even photos\n",
    "\n",
    ">It can be concluded that establishments with alcohol availability have highest average ratings, votes and photo uploads."
   ]
  },
  {
   "cell_type": "markdown",
   "metadata": {},
   "source": [
    "# Cities#"
   ]
  },
  {
   "cell_type": "code",
   "execution_count": 45,
   "metadata": {},
   "outputs": [
    {
     "data": {
      "image/png": "[encoded data removed]",
      "text/plain": [
       "<Figure size 792x504 with 1 Axes>"
      ]
     },
     "metadata": {
      "needs_background": "light"
     },
     "output_type": "display_data"
    }
   ],
   "source": [
    "city_counts = data.groupby(\"city\").count()[\"res_id\"].sort_values(ascending=True)[-10:]\n",
    "\n",
    "height = pd.Series(city_counts.values)\n",
    "bars = city_counts.index\n",
    "y_pos = np.arange(len(bars))\n",
    "\n",
    "fig = plt.figure(figsize=[11,7], frameon=False)\n",
    "ax = fig.gca()\n",
    "ax.spines[\"top\"].set_visible(\"#424242\")\n",
    "ax.spines[\"right\"].set_visible(False)\n",
    "ax.spines[\"left\"].set_color(\"#424242\")\n",
    "ax.spines[\"bottom\"].set_color(\"#424242\")\n",
    "\n",
    "#colors = [\"green\",\"blue\",\"magenta\",\"cyan\",\"gray\",\"yellow\",\"purple\",\"violet\",\"orange\",\"red\",\"maroon\"]\n",
    "#random.shuffle(colors)\n",
    "colors = ['#dcecc9', '#aadacc', '#78c6d0', '#48b3d3', '#3e94c0', '#3474ac', '#2a5599', '#203686', '#18216b', '#11174b']\n",
    "plt.barh(y_pos, height, color=colors)\n",
    "\n",
    "plt.xlim(3)\n",
    "plt.xticks(color=\"#424242\")\n",
    "plt.yticks(y_pos, bars, color=\"#424242\")\n",
    "plt.xlabel(\"Number of outlets\")\n",
    "\n",
    "for i, v in enumerate(height):\n",
    "    ax.text(v + 20, i, str(v), color='#424242')\n",
    "plt.title(\"Number of restaurants (by city)\")\n",
    "\n",
    "\n",
    "plt.show()"
   ]
  },
  {
   "cell_type": "markdown",
   "metadata": {},
   "source": [
    "\n",
    "\n",
    "As expected, metro cities have more number of restaurants than others with South India dominating the Top 4\n",
    "Average rating, votes and photos (by city)\n"
   ]
  },
  {
   "cell_type": "code",
   "execution_count": 46,
   "metadata": {},
   "outputs": [
    {
     "data": {
      "text/plain": [
       "city\n",
       "Gurgaon         3.828525\n",
       "Secunderabad    3.822222\n",
       "Hyderabad       3.755839\n",
       "Kolkata         3.751947\n",
       "New Delhi       3.727347\n",
       "Mumbai          3.709298\n",
       "Bangalore       3.698175\n",
       "Noida           3.620307\n",
       "Chennai         3.597701\n",
       "Pune            3.509224\n",
       "Name: aggregate_rating, dtype: float64"
      ]
     },
     "execution_count": 46,
     "metadata": {},
     "output_type": "execute_result"
    }
   ],
   "source": [
    "\n",
    "\n",
    "rating_by_city = data.groupby(\"city\").mean()[\"aggregate_rating\"].sort_values(ascending=False)[:10]\n",
    "rating_by_city\n",
    "\n"
   ]
  },
  {
   "cell_type": "code",
   "execution_count": 47,
   "metadata": {},
   "outputs": [
    {
     "data": {
      "text/plain": [
       "city\n",
       "Hyderabad       955.549878\n",
       "Secunderabad    955.433333\n",
       "Mumbai          797.158259\n",
       "Bangalore       724.940365\n",
       "New Delhi       711.116197\n",
       "Kolkata         615.706833\n",
       "Gurgaon         613.180328\n",
       "Noida           515.570881\n",
       "Pune            475.715681\n",
       "Navi Mumbai     443.342995\n",
       "Name: votes, dtype: float64"
      ]
     },
     "execution_count": 47,
     "metadata": {},
     "output_type": "execute_result"
    }
   ],
   "source": [
    "data.groupby(\"city\").mean()[\"votes\"].sort_values(ascending=False)[:10]"
   ]
  },
  {
   "cell_type": "code",
   "execution_count": 48,
   "metadata": {},
   "outputs": [
    {
     "data": {
      "text/plain": [
       "city\n",
       "Mumbai         882.273492\n",
       "New Delhi      764.258216\n",
       "Gurgaon        678.491803\n",
       "Kolkata        667.558413\n",
       "Navi Mumbai    547.323671\n",
       "Thane          514.963855\n",
       "Noida          492.291188\n",
       "Bangalore      462.287939\n",
       "Hyderabad      377.274939\n",
       "Pune           333.320130\n",
       "Name: photo_count, dtype: float64"
      ]
     },
     "execution_count": 48,
     "metadata": {},
     "output_type": "execute_result"
    }
   ],
   "source": [
    "data.groupby(\"city\").mean()[\"photo_count\"].sort_values(ascending=False)[:10]"
   ]
  },
  {
   "cell_type": "markdown",
   "metadata": {},
   "source": [
    "Gurgaon has highest rated restaurants whereas Hyderabad has more number of critics. Mumbai and New Delhi dominates for most photo uploads per outlet."
   ]
  },
  {
   "cell_type": "code",
   "execution_count": 49,
   "metadata": {},
   "outputs": [
    {
     "name": "stdout",
     "output_type": "stream",
     "text": [
      "Total number of unique cuisines =  134\n"
     ]
    }
   ],
   "source": [
    "print(\"Total number of unique cuisines = \", cuisines.nunique())"
   ]
  },
  {
   "cell_type": "code",
   "execution_count": 56,
   "metadata": {},
   "outputs": [
    {
     "data": {
      "image/png": "[encoded data removed]",
      "text/plain": [
       "<Figure size 576x360 with 1 Axes>"
      ]
     },
     "metadata": {
      "needs_background": "light"
     },
     "output_type": "display_data"
    }
   ],
   "source": [
    "c_count = cuisines.value_counts()[:5]\n",
    "\n",
    "fig = plt.figure(figsize=[8,5], frameon=False)\n",
    "ax = fig.gca()\n",
    "ax.spines[\"top\"].set_visible(False)\n",
    "ax.spines[\"right\"].set_visible(False)\n",
    "ax.spines[\"left\"].set_color(\"#424242\")\n",
    "ax.spines[\"bottom\"].set_color(\"#424242\")\n",
    "\n",
    "#colors = [\"green\",\"blue\",\"magenta\",\"cyan\",\"gray\",\"yellow\",\"purple\",\"violet\",\"orange\",\"red\",\"maroon\"]\n",
    "#random.shuffle(colors)\n",
    "colors = ['#4c3430', '#b04829', '#ec8c41', '#f7c65d','#fded86']\n",
    "plt.bar(c_count.index, c_count.values, color=colors)\n",
    "\n",
    "plt.xticks(range(0, 7), color=\"#424242\")\n",
    "plt.yticks(range(0, 30000, 5000), color=\"#424242\")\n",
    "plt.xlabel(\"Top 5 cuisines\")\n",
    "\n",
    "for i, v in enumerate(c_count):\n",
    "    ax.text(i-0.2, v+500, str(v), color='#424242')\n",
    "plt.title(\"Number of restaurants (by cuisine type)\")\n",
    "\n",
    "\n",
    "plt.show()"
   ]
  },
  {
   "cell_type": "markdown",
   "metadata": {},
   "source": [
    "\n",
    "\n",
    "Surprisingly, Chinese food comes second in the list of cuisines that Indians prefer, even more than fast food, desserts and South Indian food.\n",
    "Highest rated cuisines\n",
    "\n",
    "#Highest rated cuisines#"
   ]
  },
  {
   "cell_type": "code",
   "execution_count": 58,
   "metadata": {},
   "outputs": [
    {
     "name": "stdout",
     "output_type": "stream",
     "text": [
      "['North Indian', 'South Indian', 'Mithai', 'Street Food', 'Desserts', 'Mughlai', 'Rolls', 'Chinese', 'Fast Food', 'Bakery', 'Continental', 'Italian', 'Pizza', 'Cafe', 'Burger', 'Wraps', 'Beverages', 'Rajasthani', 'Mexican', 'Healthy Food', 'Sandwich', 'Salad', 'Momos', 'Lebanese', 'Mediterranean', 'Thai', 'Gujarati', 'Indian', 'Finger Food', 'European', 'Tea', 'Asian', 'Bar Food', 'Kebab', 'Paan', 'Biryani', 'Juices', 'Ice Cream', 'Japanese', 'Korean', 'Afghan', 'Awadhi', 'No cuisine', 'Hyderabadi', 'Lucknowi', 'Roast Chicken', 'Drinks Only', 'Coffee', 'American', 'BBQ', 'Maharashtrian', 'Modern Indian', 'Andhra', 'Konkan', 'Kerala', 'Sushi', 'Parsi', 'Greek', 'Bengali', 'Seafood', 'Frozen Yogurt', 'Arabian', 'Indonesian', 'Sindhi', 'Hot dogs', 'Goan', 'Charcoal Chicken', 'Raw Meats', 'Grill', 'Malwani', 'Cantonese', 'Pakistani', 'Steak', 'Vietnamese', 'Singaporean', 'Middle Eastern', 'British', 'French', 'Burmese', 'Kashmiri', 'Mangalorean', 'Malaysian', 'Tex-Mex', 'Spanish', 'Chettinad', 'Tibetan', 'German', 'Belgian', 'Turkish', 'Bihari', 'Odia', 'Naga', 'Bubble Tea', 'Moroccan', 'Sri Lankan', 'Mandi', 'Coffee and Tea', 'Cafe Food', 'Oriental', 'Cuisine Varies', 'Pan Asian', 'Mishti', 'Portuguese', 'Iranian', 'North Eastern', 'Mongolian', 'Irish', 'Tamil', 'Russian', 'Panini', 'South American', 'Fusion', 'Nepalese', 'International', 'Modern Australian', 'Poké', 'Falafel', 'Armenian', 'Peruvian', 'Brazilian', 'Himachali', 'Israeli', 'Bohri', 'Assamese', 'Bangladeshi', 'African', 'Egyptian', 'Crepes', 'Fried Chicken', 'Swedish', 'Cake', 'Garhwali', 'Vegan', 'Afghani']\n",
      "              Sum  Total\n",
      "North Indian  0.0    0.0\n",
      "South Indian  0.0    0.0\n",
      "Mithai        0.0    0.0\n",
      "Street Food   0.0    0.0\n",
      "Desserts      0.0    0.0\n",
      "...           ...    ...\n",
      "Swedish       0.0    0.0\n",
      "Cake          0.0    0.0\n",
      "Garhwali      0.0    0.0\n",
      "Vegan         0.0    0.0\n",
      "Afghani       0.0    0.0\n",
      "\n",
      "[134 rows x 2 columns]\n"
     ]
    }
   ],
   "source": [
    "\n",
    "\n",
    "data[\"cuisines2\"] = data['cuisines'].apply(lambda x : x.split(\", \"))\n",
    "\n",
    "cuisines_list = cuisines.unique().tolist()\n",
    "zeros = np.zeros(shape=(len(cuisines_list),2))\n",
    "c_and_r = pd.DataFrame(zeros, index=cuisines_list, columns=[\"Sum\",\"Total\"])\n",
    "\n",
    "#print(cuisines2)\n",
    "print(cuisines_list)\n",
    "print(c_and_r)"
   ]
  },
  {
   "cell_type": "code",
   "execution_count": 59,
   "metadata": {},
   "outputs": [],
   "source": [
    "\n",
    "\n",
    "for i, x in data.iterrows():\n",
    "    for j in x[\"cuisines2\"]:\n",
    "        c_and_r.loc[j][\"Sum\"] += x[\"aggregate_rating\"]  \n",
    "        c_and_r.loc[j][\"Total\"] += 1\n",
    "\n"
   ]
  },
  {
   "cell_type": "code",
   "execution_count": 60,
   "metadata": {},
   "outputs": [
    {
     "data": {
      "text/html": [
       "<div>\n",
       "<style scoped>\n",
       "    .dataframe tbody tr th:only-of-type {\n",
       "        vertical-align: middle;\n",
       "    }\n",
       "\n",
       "    .dataframe tbody tr th {\n",
       "        vertical-align: top;\n",
       "    }\n",
       "\n",
       "    .dataframe thead th {\n",
       "        text-align: right;\n",
       "    }\n",
       "</style>\n",
       "<table border=\"1\" class=\"dataframe\">\n",
       "  <thead>\n",
       "    <tr style=\"text-align: right;\">\n",
       "      <th></th>\n",
       "      <th>Sum</th>\n",
       "      <th>Total</th>\n",
       "      <th>Mean</th>\n",
       "    </tr>\n",
       "  </thead>\n",
       "  <tbody>\n",
       "    <tr>\n",
       "      <th>North Indian</th>\n",
       "      <td>60055.2</td>\n",
       "      <td>19226.0</td>\n",
       "      <td>3.123645</td>\n",
       "    </tr>\n",
       "    <tr>\n",
       "      <th>South Indian</th>\n",
       "      <td>18635.3</td>\n",
       "      <td>6381.0</td>\n",
       "      <td>2.920436</td>\n",
       "    </tr>\n",
       "    <tr>\n",
       "      <th>Mithai</th>\n",
       "      <td>8545.7</td>\n",
       "      <td>3144.0</td>\n",
       "      <td>2.718098</td>\n",
       "    </tr>\n",
       "    <tr>\n",
       "      <th>Street Food</th>\n",
       "      <td>10794.6</td>\n",
       "      <td>3715.0</td>\n",
       "      <td>2.905680</td>\n",
       "    </tr>\n",
       "    <tr>\n",
       "      <th>Desserts</th>\n",
       "      <td>22723.9</td>\n",
       "      <td>7064.0</td>\n",
       "      <td>3.216860</td>\n",
       "    </tr>\n",
       "    <tr>\n",
       "      <th>...</th>\n",
       "      <td>...</td>\n",
       "      <td>...</td>\n",
       "      <td>...</td>\n",
       "    </tr>\n",
       "    <tr>\n",
       "      <th>Swedish</th>\n",
       "      <td>3.6</td>\n",
       "      <td>1.0</td>\n",
       "      <td>3.600000</td>\n",
       "    </tr>\n",
       "    <tr>\n",
       "      <th>Cake</th>\n",
       "      <td>6.4</td>\n",
       "      <td>2.0</td>\n",
       "      <td>3.200000</td>\n",
       "    </tr>\n",
       "    <tr>\n",
       "      <th>Garhwali</th>\n",
       "      <td>3.3</td>\n",
       "      <td>2.0</td>\n",
       "      <td>1.650000</td>\n",
       "    </tr>\n",
       "    <tr>\n",
       "      <th>Vegan</th>\n",
       "      <td>3.5</td>\n",
       "      <td>1.0</td>\n",
       "      <td>3.500000</td>\n",
       "    </tr>\n",
       "    <tr>\n",
       "      <th>Afghani</th>\n",
       "      <td>3.4</td>\n",
       "      <td>3.0</td>\n",
       "      <td>1.133333</td>\n",
       "    </tr>\n",
       "  </tbody>\n",
       "</table>\n",
       "<p>134 rows × 3 columns</p>\n",
       "</div>"
      ],
      "text/plain": [
       "                  Sum    Total      Mean\n",
       "North Indian  60055.2  19226.0  3.123645\n",
       "South Indian  18635.3   6381.0  2.920436\n",
       "Mithai         8545.7   3144.0  2.718098\n",
       "Street Food   10794.6   3715.0  2.905680\n",
       "Desserts      22723.9   7064.0  3.216860\n",
       "...               ...      ...       ...\n",
       "Swedish           3.6      1.0  3.600000\n",
       "Cake              6.4      2.0  3.200000\n",
       "Garhwali          3.3      2.0  1.650000\n",
       "Vegan             3.5      1.0  3.500000\n",
       "Afghani           3.4      3.0  1.133333\n",
       "\n",
       "[134 rows x 3 columns]"
      ]
     },
     "execution_count": 60,
     "metadata": {},
     "output_type": "execute_result"
    }
   ],
   "source": [
    "\n",
    "\n",
    "c_and_r[\"Mean\"] = c_and_r[\"Sum\"] / c_and_r[\"Total\"]\n",
    "c_and_r\n",
    "\n"
   ]
  },
  {
   "cell_type": "code",
   "execution_count": 61,
   "metadata": {},
   "outputs": [
    {
     "data": {
      "text/html": [
       "<div>\n",
       "<style scoped>\n",
       "    .dataframe tbody tr th:only-of-type {\n",
       "        vertical-align: middle;\n",
       "    }\n",
       "\n",
       "    .dataframe tbody tr th {\n",
       "        vertical-align: top;\n",
       "    }\n",
       "\n",
       "    .dataframe thead th {\n",
       "        text-align: right;\n",
       "    }\n",
       "</style>\n",
       "<table border=\"1\" class=\"dataframe\">\n",
       "  <thead>\n",
       "    <tr style=\"text-align: right;\">\n",
       "      <th></th>\n",
       "      <th>Mean</th>\n",
       "      <th>Total</th>\n",
       "    </tr>\n",
       "  </thead>\n",
       "  <tbody>\n",
       "    <tr>\n",
       "      <th>Egyptian</th>\n",
       "      <td>4.416667</td>\n",
       "      <td>6.0</td>\n",
       "    </tr>\n",
       "    <tr>\n",
       "      <th>Poké</th>\n",
       "      <td>4.350000</td>\n",
       "      <td>12.0</td>\n",
       "    </tr>\n",
       "    <tr>\n",
       "      <th>Fusion</th>\n",
       "      <td>4.350000</td>\n",
       "      <td>2.0</td>\n",
       "    </tr>\n",
       "    <tr>\n",
       "      <th>International</th>\n",
       "      <td>4.300000</td>\n",
       "      <td>1.0</td>\n",
       "    </tr>\n",
       "    <tr>\n",
       "      <th>Tex-Mex</th>\n",
       "      <td>4.293939</td>\n",
       "      <td>33.0</td>\n",
       "    </tr>\n",
       "    <tr>\n",
       "      <th>Singaporean</th>\n",
       "      <td>4.287500</td>\n",
       "      <td>16.0</td>\n",
       "    </tr>\n",
       "    <tr>\n",
       "      <th>Moroccan</th>\n",
       "      <td>4.258333</td>\n",
       "      <td>12.0</td>\n",
       "    </tr>\n",
       "    <tr>\n",
       "      <th>Sushi</th>\n",
       "      <td>4.206087</td>\n",
       "      <td>115.0</td>\n",
       "    </tr>\n",
       "    <tr>\n",
       "      <th>Greek</th>\n",
       "      <td>4.159091</td>\n",
       "      <td>22.0</td>\n",
       "    </tr>\n",
       "    <tr>\n",
       "      <th>Mediterranean</th>\n",
       "      <td>4.130275</td>\n",
       "      <td>327.0</td>\n",
       "    </tr>\n",
       "  </tbody>\n",
       "</table>\n",
       "</div>"
      ],
      "text/plain": [
       "                   Mean  Total\n",
       "Egyptian       4.416667    6.0\n",
       "Poké           4.350000   12.0\n",
       "Fusion         4.350000    2.0\n",
       "International  4.300000    1.0\n",
       "Tex-Mex        4.293939   33.0\n",
       "Singaporean    4.287500   16.0\n",
       "Moroccan       4.258333   12.0\n",
       "Sushi          4.206087  115.0\n",
       "Greek          4.159091   22.0\n",
       "Mediterranean  4.130275  327.0"
      ]
     },
     "execution_count": 61,
     "metadata": {},
     "output_type": "execute_result"
    }
   ],
   "source": [
    "c_and_r[[\"Mean\",\"Total\"]].sort_values(by=\"Mean\", ascending=False)[:10]    "
   ]
  },
  {
   "cell_type": "markdown",
   "metadata": {},
   "source": [
    "We can ignore a few cuisines in this list since they are available in less number. But the overall conclusion which can be drawn is that International (and rarely available) cuisines are rated higher than local cuisines."
   ]
  },
  {
   "cell_type": "markdown",
   "metadata": {},
   "source": [
    "# Highlights/Features of restaurants"
   ]
  },
  {
   "cell_type": "markdown",
   "metadata": {},
   "source": [
    "# Unique highlights"
   ]
  },
  {
   "cell_type": "code",
   "execution_count": 62,
   "metadata": {},
   "outputs": [
    {
     "name": "stdout",
     "output_type": "stream",
     "text": [
      "Total number of unique cuisines =  104\n"
     ]
    }
   ],
   "source": [
    "print(\"Total number of unique cuisines = \", hl.nunique())"
   ]
  },
  {
   "cell_type": "code",
   "execution_count": 63,
   "metadata": {},
   "outputs": [
    {
     "data": {
      "image/png": "[encoded data removed]",
      "text/plain": [
       "<Figure size 720x432 with 1 Axes>"
      ]
     },
     "metadata": {
      "needs_background": "light"
     },
     "output_type": "display_data"
    }
   ],
   "source": [
    "h_count = hl.value_counts()[:5]\n",
    "\n",
    "fig = plt.figure(figsize=[10,6], frameon=False)\n",
    "ax = fig.gca()\n",
    "ax.spines[\"top\"].set_visible(False)\n",
    "ax.spines[\"right\"].set_visible(False)\n",
    "ax.spines[\"left\"].set_color(\"#424242\")\n",
    "ax.spines[\"bottom\"].set_color(\"#424242\")\n",
    "\n",
    "#colors = [\"green\",\"blue\",\"magenta\",\"cyan\",\"gray\",\"yellow\",\"purple\",\"violet\",\"orange\",\"red\",\"maroon\"]\n",
    "#random.shuffle(colors)\n",
    "colors = ['#11174b', '#2a5599', '#3e94c0', '#78c6d0', '#dcecc9']\n",
    "plt.bar(h_count.index, h_count.values, color=colors)\n",
    "\n",
    "plt.xticks(range(0, 6), color=\"#424242\")\n",
    "plt.yticks(range(0, 70000, 10000), color=\"#424242\")\n",
    "plt.xlabel(\"Top 5 highlights\")\n",
    "\n",
    "for i, v in enumerate(h_count):\n",
    "    ax.text(i-0.2, v+500, str(v), color='#424242')\n",
    "plt.title(\"Number of restaurants (by highlights)\")\n",
    "\n",
    "\n",
    "plt.show()"
   ]
  },
  {
   "cell_type": "markdown",
   "metadata": {},
   "source": [
    "Top 5 highlights doesn't convey much information since they are very trivial to almost every restaurant. Let's look at uncommon highlights that matter more to the customers."
   ]
  },
  {
   "cell_type": "markdown",
   "metadata": {},
   "source": [
    "# Highest rated highlights"
   ]
  },
  {
   "cell_type": "code",
   "execution_count": 64,
   "metadata": {},
   "outputs": [
    {
     "data": {
      "text/plain": [
       "\"['Lunch', 'Takeaway Available', 'Credit Card', 'Dinner', 'Cash', 'Air Conditioned', 'Indoor Seating', 'Pure Veg']\""
      ]
     },
     "execution_count": 64,
     "metadata": {},
     "output_type": "execute_result"
    }
   ],
   "source": [
    "data[\"highlights\"][0]"
   ]
  },
  {
   "cell_type": "code",
   "execution_count": 65,
   "metadata": {},
   "outputs": [],
   "source": [
    "\n",
    "\n",
    "data[\"highlights2\"] = data['highlights'].apply(lambda x : x[2:-2].split(\"', '\"))\n",
    "\n",
    "hl_list = hl.unique().tolist()\n",
    "zeros = np.zeros(shape=(len(hl_list),2))\n",
    "h_and_r = pd.DataFrame(zeros, index=hl_list, columns=[\"Sum\",\"Total\"])\n",
    "\n"
   ]
  },
  {
   "cell_type": "code",
   "execution_count": 70,
   "metadata": {},
   "outputs": [],
   "source": [
    "for i, x in data.iterrows():\n",
    "    for j in x[\"highlights2\"]:\n",
    "        h_and_r.loc[j][\"Sum\"] += x[\"aggregate_rating\"]  \n",
    "        h_and_r.loc[j][\"Total\"] += 1"
   ]
  },
  {
   "cell_type": "code",
   "execution_count": 67,
   "metadata": {},
   "outputs": [
    {
     "data": {
      "text/html": [
       "<div>\n",
       "<style scoped>\n",
       "    .dataframe tbody tr th:only-of-type {\n",
       "        vertical-align: middle;\n",
       "    }\n",
       "\n",
       "    .dataframe tbody tr th {\n",
       "        vertical-align: top;\n",
       "    }\n",
       "\n",
       "    .dataframe thead th {\n",
       "        text-align: right;\n",
       "    }\n",
       "</style>\n",
       "<table border=\"1\" class=\"dataframe\">\n",
       "  <thead>\n",
       "    <tr style=\"text-align: right;\">\n",
       "      <th></th>\n",
       "      <th>Sum</th>\n",
       "      <th>Total</th>\n",
       "      <th>Mean</th>\n",
       "    </tr>\n",
       "  </thead>\n",
       "  <tbody>\n",
       "    <tr>\n",
       "      <th>Lunch</th>\n",
       "      <td>113340.8</td>\n",
       "      <td>36043.0</td>\n",
       "      <td>3.144600</td>\n",
       "    </tr>\n",
       "    <tr>\n",
       "      <th>Takeaway Available</th>\n",
       "      <td>139848.5</td>\n",
       "      <td>46773.0</td>\n",
       "      <td>2.989941</td>\n",
       "    </tr>\n",
       "    <tr>\n",
       "      <th>Credit Card</th>\n",
       "      <td>94107.2</td>\n",
       "      <td>27530.0</td>\n",
       "      <td>3.418351</td>\n",
       "    </tr>\n",
       "    <tr>\n",
       "      <th>Dinner</th>\n",
       "      <td>118364.5</td>\n",
       "      <td>37643.0</td>\n",
       "      <td>3.144396</td>\n",
       "    </tr>\n",
       "    <tr>\n",
       "      <th>Cash</th>\n",
       "      <td>157862.8</td>\n",
       "      <td>52825.0</td>\n",
       "      <td>2.988411</td>\n",
       "    </tr>\n",
       "    <tr>\n",
       "      <th>...</th>\n",
       "      <td>...</td>\n",
       "      <td>...</td>\n",
       "      <td>...</td>\n",
       "    </tr>\n",
       "    <tr>\n",
       "      <th>Celebrity Frequented</th>\n",
       "      <td>90.1</td>\n",
       "      <td>22.0</td>\n",
       "      <td>4.095455</td>\n",
       "    </tr>\n",
       "    <tr>\n",
       "      <th>Alipay Accepted</th>\n",
       "      <td>3.0</td>\n",
       "      <td>1.0</td>\n",
       "      <td>3.000000</td>\n",
       "    </tr>\n",
       "    <tr>\n",
       "      <th>Subscription Available</th>\n",
       "      <td>4.1</td>\n",
       "      <td>1.0</td>\n",
       "      <td>4.100000</td>\n",
       "    </tr>\n",
       "    <tr>\n",
       "      <th>Subscription Required</th>\n",
       "      <td>4.5</td>\n",
       "      <td>1.0</td>\n",
       "      <td>4.500000</td>\n",
       "    </tr>\n",
       "    <tr>\n",
       "      <th>Bira 91 Beer</th>\n",
       "      <td>8.0</td>\n",
       "      <td>2.0</td>\n",
       "      <td>4.000000</td>\n",
       "    </tr>\n",
       "  </tbody>\n",
       "</table>\n",
       "<p>104 rows × 3 columns</p>\n",
       "</div>"
      ],
      "text/plain": [
       "                             Sum    Total      Mean\n",
       "Lunch                   113340.8  36043.0  3.144600\n",
       "Takeaway Available      139848.5  46773.0  2.989941\n",
       "Credit Card              94107.2  27530.0  3.418351\n",
       "Dinner                  118364.5  37643.0  3.144396\n",
       "Cash                    157862.8  52825.0  2.988411\n",
       "...                          ...      ...       ...\n",
       "Celebrity Frequented        90.1     22.0  4.095455\n",
       "Alipay Accepted              3.0      1.0  3.000000\n",
       "Subscription Available       4.1      1.0  4.100000\n",
       "Subscription Required        4.5      1.0  4.500000\n",
       "Bira 91 Beer                 8.0      2.0  4.000000\n",
       "\n",
       "[104 rows x 3 columns]"
      ]
     },
     "execution_count": 67,
     "metadata": {},
     "output_type": "execute_result"
    }
   ],
   "source": [
    "\n",
    "\n",
    "h_and_r[\"Mean\"] = h_and_r[\"Sum\"] / h_and_r[\"Total\"]\n",
    "h_and_r\n",
    "\n"
   ]
  },
  {
   "cell_type": "code",
   "execution_count": 71,
   "metadata": {},
   "outputs": [
    {
     "data": {
      "text/html": [
       "<div>\n",
       "<style scoped>\n",
       "    .dataframe tbody tr th:only-of-type {\n",
       "        vertical-align: middle;\n",
       "    }\n",
       "\n",
       "    .dataframe tbody tr th {\n",
       "        vertical-align: top;\n",
       "    }\n",
       "\n",
       "    .dataframe thead th {\n",
       "        text-align: right;\n",
       "    }\n",
       "</style>\n",
       "<table border=\"1\" class=\"dataframe\">\n",
       "  <thead>\n",
       "    <tr style=\"text-align: right;\">\n",
       "      <th></th>\n",
       "      <th>Mean</th>\n",
       "      <th>Total</th>\n",
       "    </tr>\n",
       "  </thead>\n",
       "  <tbody>\n",
       "    <tr>\n",
       "      <th>Subscription Required</th>\n",
       "      <td>4.500000</td>\n",
       "      <td>4.0</td>\n",
       "    </tr>\n",
       "    <tr>\n",
       "      <th>Speakeasy</th>\n",
       "      <td>4.300000</td>\n",
       "      <td>12.0</td>\n",
       "    </tr>\n",
       "    <tr>\n",
       "      <th>Gastro Pub</th>\n",
       "      <td>4.198551</td>\n",
       "      <td>276.0</td>\n",
       "    </tr>\n",
       "    <tr>\n",
       "      <th>Craft Beer</th>\n",
       "      <td>4.197297</td>\n",
       "      <td>592.0</td>\n",
       "    </tr>\n",
       "    <tr>\n",
       "      <th>Romantic Dining</th>\n",
       "      <td>4.162416</td>\n",
       "      <td>596.0</td>\n",
       "    </tr>\n",
       "    <tr>\n",
       "      <th>Sneakpeek</th>\n",
       "      <td>4.128316</td>\n",
       "      <td>1568.0</td>\n",
       "    </tr>\n",
       "    <tr>\n",
       "      <th>Subscription Available</th>\n",
       "      <td>4.100000</td>\n",
       "      <td>4.0</td>\n",
       "    </tr>\n",
       "    <tr>\n",
       "      <th>Celebrity Frequented</th>\n",
       "      <td>4.095455</td>\n",
       "      <td>88.0</td>\n",
       "    </tr>\n",
       "    <tr>\n",
       "      <th>Keto Options</th>\n",
       "      <td>4.049153</td>\n",
       "      <td>236.0</td>\n",
       "    </tr>\n",
       "    <tr>\n",
       "      <th>Pet Friendly</th>\n",
       "      <td>4.017576</td>\n",
       "      <td>660.0</td>\n",
       "    </tr>\n",
       "  </tbody>\n",
       "</table>\n",
       "</div>"
      ],
      "text/plain": [
       "                            Mean   Total\n",
       "Subscription Required   4.500000     4.0\n",
       "Speakeasy               4.300000    12.0\n",
       "Gastro Pub              4.198551   276.0\n",
       "Craft Beer              4.197297   592.0\n",
       "Romantic Dining         4.162416   596.0\n",
       "Sneakpeek               4.128316  1568.0\n",
       "Subscription Available  4.100000     4.0\n",
       "Celebrity Frequented    4.095455    88.0\n",
       "Keto Options            4.049153   236.0\n",
       "Pet Friendly            4.017576   660.0"
      ]
     },
     "execution_count": 71,
     "metadata": {},
     "output_type": "execute_result"
    }
   ],
   "source": [
    "h_and_r[[\"Mean\",\"Total\"]].sort_values(by=\"Mean\", ascending=False)[:10]"
   ]
  },
  {
   "cell_type": "markdown",
   "metadata": {},
   "source": [
    "We can safely ignore highlights which have a frequency of less than 10 since they can be considered as outliers. Features like Gastro pub, Craft beer, Romantic dining and Sneakpeek are well received among customers."
   ]
  },
  {
   "cell_type": "markdown",
   "metadata": {},
   "source": [
    "# Highlights wordcloud\n",
    "Here we will create a wordcloud of top 30 highlights"
   ]
  },
  {
   "cell_type": "code",
   "execution_count": 74,
   "metadata": {},
   "outputs": [
    {
     "name": "stdout",
     "output_type": "stream",
     "text": [
      "Collecting wordcloud\n",
      "  Downloading wordcloud-1.8.2.2-cp37-cp37m-win_amd64.whl (152 kB)\n",
      "     -------------------------------------- 152.2/152.2 kB 2.3 MB/s eta 0:00:00\n",
      "Requirement already satisfied: numpy>=1.6.1 in c:\\users\\91773\\anaconda3\\lib\\site-packages (from wordcloud) (1.19.5)\n",
      "Requirement already satisfied: matplotlib in c:\\users\\91773\\anaconda3\\lib\\site-packages (from wordcloud) (3.1.3)\n",
      "Requirement already satisfied: pillow in c:\\users\\91773\\anaconda3\\lib\\site-packages (from wordcloud) (7.0.0)\n",
      "Requirement already satisfied: python-dateutil>=2.1 in c:\\users\\91773\\anaconda3\\lib\\site-packages (from matplotlib->wordcloud) (2.8.1)\n",
      "Requirement already satisfied: kiwisolver>=1.0.1 in c:\\users\\91773\\anaconda3\\lib\\site-packages (from matplotlib->wordcloud) (1.1.0)\n",
      "Requirement already satisfied: pyparsing!=2.0.4,!=2.1.2,!=2.1.6,>=2.0.1 in c:\\users\\91773\\anaconda3\\lib\\site-packages (from matplotlib->wordcloud) (2.4.6)\n",
      "Requirement already satisfied: cycler>=0.10 in c:\\users\\91773\\anaconda3\\lib\\site-packages (from matplotlib->wordcloud) (0.10.0)\n",
      "Requirement already satisfied: six in c:\\users\\91773\\anaconda3\\lib\\site-packages (from cycler>=0.10->matplotlib->wordcloud) (1.15.0)\n",
      "Requirement already satisfied: setuptools in c:\\users\\91773\\anaconda3\\lib\\site-packages (from kiwisolver>=1.0.1->matplotlib->wordcloud) (45.2.0.post20200210)\n",
      "Installing collected packages: wordcloud\n",
      "Successfully installed wordcloud-1.8.2.2\n",
      "\n",
      "[notice] A new release of pip available: 22.1.2 -> 22.2.2\n",
      "[notice] To update, run: python.exe -m pip install --upgrade pip\n"
     ]
    },
    {
     "name": "stderr",
     "output_type": "stream",
     "text": [
      "WARNING: Ignoring invalid distribution -umpy (c:\\users\\91773\\anaconda3\\lib\\site-packages)\n",
      "WARNING: Ignoring invalid distribution -umpy (c:\\users\\91773\\anaconda3\\lib\\site-packages)\n",
      "WARNING: Ignoring invalid distribution -umpy (c:\\users\\91773\\anaconda3\\lib\\site-packages)\n",
      "WARNING: Ignoring invalid distribution -umpy (c:\\users\\91773\\anaconda3\\lib\\site-packages)\n",
      "WARNING: Ignoring invalid distribution -umpy (c:\\users\\91773\\anaconda3\\lib\\site-packages)\n",
      "WARNING: Ignoring invalid distribution -umpy (c:\\users\\91773\\anaconda3\\lib\\site-packages)\n",
      "WARNING: Ignoring invalid distribution -umpy (c:\\users\\91773\\anaconda3\\lib\\site-packages)\n"
     ]
    }
   ],
   "source": [
    "!pip install wordcloud"
   ]
  },
  {
   "cell_type": "code",
   "execution_count": 75,
   "metadata": {},
   "outputs": [],
   "source": [
    "from wordcloud import WordCloud"
   ]
  },
  {
   "cell_type": "code",
   "execution_count": 78,
   "metadata": {},
   "outputs": [
    {
     "data": {
      "image/png": "[encoded data removed]",
      "text/plain": [
       "<Figure size 576x576 with 1 Axes>"
      ]
     },
     "metadata": {
      "needs_background": "light"
     },
     "output_type": "display_data"
    }
   ],
   "source": [
    "hl_str = \"\"\n",
    "for i in hl:\n",
    "    hl_str += str(i) + \" \"\n",
    "wordcloud = WordCloud(width = 800, height = 500, \n",
    "                background_color ='white', \n",
    "                min_font_size = 10, max_words=30).generate(hl_str) \n",
    "                         \n",
    "plt.figure(figsize = (8, 8), facecolor = None) \n",
    "plt.imshow(wordcloud) \n",
    "plt.axis(\"off\") \n",
    "plt.tight_layout(pad = 0) \n",
    "  \n",
    "plt.show()"
   ]
  },
  {
   "cell_type": "code",
   "execution_count": 79,
   "metadata": {},
   "outputs": [
    {
     "data": {
      "image/png": "[encoded data removed]",
      "text/plain": [
       "<Figure size 432x288 with 1 Axes>"
      ]
     },
     "metadata": {
      "needs_background": "light"
     },
     "output_type": "display_data"
    }
   ],
   "source": [
    "\n",
    "\n",
    "sns.kdeplot(data['aggregate_rating'], shade=True)\n",
    "plt.title(\"Ratings distribution\")\n",
    "plt.show()\n",
    "\n"
   ]
  },
  {
   "cell_type": "markdown",
   "metadata": {},
   "source": [
    "There is a huge spike at 0 which might account for newly opened or unrated restaurants. On average, majority of restaurants have rating between 3 to 4 with fewer restaurants managing to go beyond 4."
   ]
  },
  {
   "cell_type": "markdown",
   "metadata": {},
   "source": [
    "Avergae cost for two distribution"
   ]
  },
  {
   "cell_type": "code",
   "execution_count": 80,
   "metadata": {},
   "outputs": [
    {
     "data": {
      "image/png": "[encoded data removed]",
      "text/plain": [
       "<Figure size 432x288 with 1 Axes>"
      ]
     },
     "metadata": {
      "needs_background": "light"
     },
     "output_type": "display_data"
    }
   ],
   "source": [
    "sns.kdeplot(data['average_cost_for_two'], shade=True)\n",
    "plt.title(\"Average cost for 2 distribution\")\n",
    "plt.show()"
   ]
  },
  {
   "cell_type": "markdown",
   "metadata": {},
   "source": [
    "\n",
    "\n",
    "With few restaurants charging average of Rs.25000+ for two, this graph is extremely skewed. Let's take a closer look at a lower range of 0 to 60000.\n"
   ]
  },
  {
   "cell_type": "code",
   "execution_count": 81,
   "metadata": {},
   "outputs": [
    {
     "data": {
      "image/png": "[encoded data removed]",
      "text/plain": [
       "<Figure size 432x288 with 1 Axes>"
      ]
     },
     "metadata": {
      "needs_background": "light"
     },
     "output_type": "display_data"
    }
   ],
   "source": [
    "sns.kdeplot(data['average_cost_for_two'], shade=True)\n",
    "plt.xlim([0,6000])\n",
    "plt.xticks(range(0,6000,500))\n",
    "plt.title(\"Average cost for 2 distribution\")\n",
    "plt.show()"
   ]
  },
  {
   "cell_type": "markdown",
   "metadata": {},
   "source": [
    "Majority of restaurants are budget friendly with an average cost between Rs.250 to Rs.800 for two."
   ]
  },
  {
   "cell_type": "markdown",
   "metadata": {},
   "source": [
    "Price range count"
   ]
  },
  {
   "cell_type": "code",
   "execution_count": 82,
   "metadata": {},
   "outputs": [
    {
     "data": {
      "image/png": "[encoded data removed]",
      "text/plain": [
       "<Figure size 576x360 with 1 Axes>"
      ]
     },
     "metadata": {
      "needs_background": "light"
     },
     "output_type": "display_data"
    }
   ],
   "source": [
    "pr_count = data.groupby(\"price_range\").count()[\"name\"]\n",
    "\n",
    "fig = plt.figure(figsize=[8,5], frameon=False)\n",
    "ax = fig.gca()\n",
    "ax.spines[\"top\"].set_visible(False)\n",
    "ax.spines[\"right\"].set_visible(False)\n",
    "ax.spines[\"left\"].set_color(\"#424242\")\n",
    "ax.spines[\"bottom\"].set_color(\"#424242\")\n",
    "\n",
    "#colors = [\"green\",\"blue\",\"magenta\",\"cyan\",\"gray\",\"yellow\",\"purple\",\"violet\",\"orange\",\"red\",\"maroon\"]\n",
    "#random.shuffle(colors)\n",
    "colors = [\"#2d0f41\",'#933291',\"#f2a49f\",\"#f9cdac\"]\n",
    "plt.bar(pr_count.index, pr_count.values, color=colors)\n",
    "\n",
    "plt.xticks(range(0, 5), color=\"#424242\")\n",
    "plt.yticks(range(0, 40000, 5000), color=\"#424242\")\n",
    "plt.xlabel(\"Price Ranges\")\n",
    "\n",
    "for i, v in enumerate(pr_count):\n",
    "    ax.text(i+0.85, v+700, str(v), color='#424242')\n",
    "plt.title(\"Number of restaurants (by price ranges)\")\n",
    "\n",
    "\n",
    "plt.show()"
   ]
  },
  {
   "cell_type": "markdown",
   "metadata": {},
   "source": [
    "Price range chart supports our previous observation from the Average cost chart. Number of restaurant decreases with increase in price range."
   ]
  },
  {
   "cell_type": "markdown",
   "metadata": {},
   "source": [
    "# Relation between Average price for two and Rating"
   ]
  },
  {
   "cell_type": "code",
   "execution_count": 83,
   "metadata": {},
   "outputs": [
    {
     "data": {
      "text/plain": [
       "0.25"
      ]
     },
     "execution_count": 83,
     "metadata": {},
     "output_type": "execute_result"
    }
   ],
   "source": [
    "np.round(data[[\"average_cost_for_two\",\"aggregate_rating\"]].corr()[\"average_cost_for_two\"][1],2)"
   ]
  },
  {
   "cell_type": "markdown",
   "metadata": {},
   "source": [
    "\n",
    "\n",
    "A correlation can be seen between restaurant average cost and rating\n"
   ]
  },
  {
   "cell_type": "code",
   "execution_count": 84,
   "metadata": {},
   "outputs": [
    {
     "data": {
      "image/png": "[encoded data removed]",
      "text/plain": [
       "<Figure size 432x288 with 1 Axes>"
      ]
     },
     "metadata": {
      "needs_background": "light"
     },
     "output_type": "display_data"
    }
   ],
   "source": [
    "\n",
    "\n",
    "plt.plot(\"average_cost_for_two\",\"aggregate_rating\", data=data, linestyle=\"none\", marker=\"o\")\n",
    "plt.xlim([0,6000])\n",
    "plt.title(\"Relationship between Average cost and Rating\")\n",
    "plt.xlabel(\"Average cost for two\")\n",
    "plt.ylabel(\"Ratings\")\n",
    "plt.show()\n",
    "\n"
   ]
  },
  {
   "cell_type": "markdown",
   "metadata": {},
   "source": [
    "\n",
    "\n",
    "There is definetely a direct relation between the two. Let's take a smaller sample to draw a clearer scatter plot.\n"
   ]
  },
  {
   "cell_type": "code",
   "execution_count": 89,
   "metadata": {},
   "outputs": [
    {
     "data": {
      "image/png": "[encoded data removed]",
      "text/plain": [
       "<Figure size 432x288 with 1 Axes>"
      ]
     },
     "metadata": {
      "needs_background": "light"
     },
     "output_type": "display_data"
    }
   ],
   "source": [
    "\n",
    "\n",
    "plt.plot(\"average_cost_for_two\",\"aggregate_rating\", data=data.sample(1000), linestyle=\"none\", marker=\"o\")\n",
    "plt.xlim([0,3000])\n",
    "plt.show()\n",
    "\n"
   ]
  },
  {
   "cell_type": "markdown",
   "metadata": {},
   "source": [
    "This relation concludes that that as average cost for two increases, there is a better chance that the restaurant will be rated highly. Let's look at price range for a better comparison.\n"
   ]
  },
  {
   "cell_type": "markdown",
   "metadata": {},
   "source": [
    "## Relation between Price range and Rating"
   ]
  },
  {
   "cell_type": "code",
   "execution_count": 90,
   "metadata": {},
   "outputs": [
    {
     "data": {
      "text/plain": [
       "0.25"
      ]
     },
     "execution_count": 90,
     "metadata": {},
     "output_type": "execute_result"
    }
   ],
   "source": [
    "np.round(data[[\"price_range\",\"aggregate_rating\"]].corr()[\"price_range\"][1],2)"
   ]
  },
  {
   "cell_type": "code",
   "execution_count": 91,
   "metadata": {},
   "outputs": [
    {
     "data": {
      "image/png": "[encoded data removed]",
      "text/plain": [
       "<Figure size 432x288 with 1 Axes>"
      ]
     },
     "metadata": {
      "needs_background": "light"
     },
     "output_type": "display_data"
    }
   ],
   "source": [
    "\n",
    "\n",
    "sns.boxplot(x='price_range', y='aggregate_rating', data=data)\n",
    "plt.ylim(1)\n",
    "plt.title(\"Relationship between Price range and Ratings\")\n",
    "plt.show()\n",
    "\n"
   ]
  },
  {
   "cell_type": "markdown",
   "metadata": {},
   "source": [
    "\n",
    "\n",
    "Now, it is clear. The higher the price a restaurant charges, more services they provide and hence more chances of getting good ratings from their customers.\n"
   ]
  },
  {
   "cell_type": "markdown",
   "metadata": {},
   "source": [
    "# Conclusions"
   ]
  },
  {
   "cell_type": "markdown",
   "metadata": {},
   "source": [
    "After working on this data, we can conclude the following things:-\n",
    "\n",
    "    Approx. 35% of restaurants in India are part of some chain.\n",
    "    \n",
    "    Domino's Pizza, Cafe Coffee Day, KFC are the biggest fast food chains in the country with most number of outlets.\n",
    "    \n",
    "    Barbecues and Grill food chains have highest average ratings than other type of restaurants.\n",
    "    \n",
    "    Quick bites and casual dining type of establishment have most number of outlets.\n",
    "    \n",
    "    Establishments with alcohol availability have highest average ratings, votes and photo uploads\n",
    "    \n",
    "    Banglore has most number of restaurants.\n",
    "    \n",
    "    Gurgaon has highest rated restaurants (average 3.83) whereas Hyderabad has more number of critics (votes). Mumbai and    New Delhi dominates for most photo uploads per outlet.\n",
    "    \n",
    "    After North Indian, Chinese is the most prefered cuisine in India.\n",
    "    \n",
    "    International cuisines are better rated than local cuisines.\n",
    "    \n",
    "    Gastro pub, Romantic Dining and Craft Beer features are well rated by customers.\n",
    "    \n",
    "    Most restaurants are rated between 3 and 4.\n",
    "    \n",
    "    Majority of restaurants are budget friendly with average cost of two between Rs.250 to Rs.800.\n",
    "    \n",
    "    There are less number of restaurants at higher price ranges.\n",
    "    \n",
    "    As the average cost of two increases, the chance of a restaurant having higher rating increases\n"
   ]
  },
  {
   "cell_type": "code",
   "execution_count": null,
   "metadata": {},
   "outputs": [],
   "source": []
  }
 ],
 "metadata": {
  "colab": {
   "authorship_tag": "ABX9TyMyUCngsHKfKQH+AlSqKO2z",
   "collapsed_sections": [
    "XKsriNYVJc9a"
   ],
   "name": "ZomatoEDA.ipynb",
   "provenance": []
  },
  "kernelspec": {
   "display_name": "Python 3",
   "language": "python",
   "name": "python3"
  },
  "language_info": {
   "codemirror_mode": {
    "name": "ipython",
    "version": 3
   },
   "file_extension": ".py",
   "mimetype": "text/x-python",
   "name": "python",
   "nbconvert_exporter": "python",
   "pygments_lexer": "ipython3",
   "version": "3.7.6"
  }
 },
 "nbformat": 4,
 "nbformat_minor": 1
}
